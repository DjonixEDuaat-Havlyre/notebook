{
 "cells": [
  {
   "cell_type": "code",
   "execution_count": 1,
   "metadata": {
    "ExecuteTime": {
     "end_time": "2018-06-09T23:36:02.382000-05:00",
     "start_time": "2018-06-10T04:36:01.022Z"
    }
   },
   "outputs": [
    {
     "data": {
      "text/plain": [
       "\"1 + 1\""
      ]
     },
     "execution_count": 1,
     "metadata": {},
     "output_type": "execute_result"
    }
   ],
   "source": [
    "prog = \"1 + 1\""
   ]
  },
  {
   "cell_type": "code",
   "execution_count": 2,
   "metadata": {
    "ExecuteTime": {
     "end_time": "2018-06-09T23:36:24.988000-05:00",
     "start_time": "2018-06-10T04:36:23.766Z"
    }
   },
   "outputs": [
    {
     "data": {
      "text/plain": [
       ":(1 + 1)"
      ]
     },
     "execution_count": 2,
     "metadata": {},
     "output_type": "execute_result"
    }
   ],
   "source": [
    "ex1 = parse(prog)"
   ]
  },
  {
   "cell_type": "code",
   "execution_count": 3,
   "metadata": {
    "ExecuteTime": {
     "end_time": "2018-06-09T23:36:47.202000-05:00",
     "start_time": "2018-06-10T04:36:46.945Z"
    }
   },
   "outputs": [
    {
     "data": {
      "text/plain": [
       "Expr"
      ]
     },
     "execution_count": 3,
     "metadata": {},
     "output_type": "execute_result"
    }
   ],
   "source": [
    "typeof(ex1)"
   ]
  },
  {
   "cell_type": "code",
   "execution_count": 4,
   "metadata": {
    "ExecuteTime": {
     "end_time": "2018-06-09T23:37:28.748000-05:00",
     "start_time": "2018-06-10T04:37:28.516Z"
    }
   },
   "outputs": [
    {
     "data": {
      "text/plain": [
       ":call"
      ]
     },
     "execution_count": 4,
     "metadata": {},
     "output_type": "execute_result"
    }
   ],
   "source": [
    "ex1.head"
   ]
  },
  {
   "cell_type": "code",
   "execution_count": 5,
   "metadata": {
    "ExecuteTime": {
     "end_time": "2018-06-09T23:37:51.579000-05:00",
     "start_time": "2018-06-10T04:37:50.771Z"
    }
   },
   "outputs": [
    {
     "data": {
      "text/plain": [
       "3-element Array{Any,1}:\n",
       "  :+\n",
       " 1  \n",
       " 1  "
      ]
     },
     "execution_count": 5,
     "metadata": {},
     "output_type": "execute_result"
    }
   ],
   "source": [
    "ex1.args"
   ]
  },
  {
   "cell_type": "code",
   "execution_count": 6,
   "metadata": {
    "ExecuteTime": {
     "end_time": "2018-06-09T23:38:33.732000-05:00",
     "start_time": "2018-06-10T04:38:33.726Z"
    }
   },
   "outputs": [
    {
     "data": {
      "text/plain": [
       ":(1 + 1)"
      ]
     },
     "execution_count": 6,
     "metadata": {},
     "output_type": "execute_result"
    }
   ],
   "source": [
    "ex2 = Expr(:call, :+, 1, 1)"
   ]
  },
  {
   "cell_type": "code",
   "execution_count": 7,
   "metadata": {
    "ExecuteTime": {
     "end_time": "2018-06-09T23:38:53.120000-05:00",
     "start_time": "2018-06-10T04:38:52.856Z"
    }
   },
   "outputs": [
    {
     "data": {
      "text/plain": [
       "true"
      ]
     },
     "execution_count": 7,
     "metadata": {},
     "output_type": "execute_result"
    }
   ],
   "source": [
    "ex1 == ex2"
   ]
  },
  {
   "cell_type": "markdown",
   "metadata": {},
   "source": [
    "**Julia** code is a data structure that is accessible from the language itself."
   ]
  },
  {
   "cell_type": "code",
   "execution_count": 8,
   "metadata": {
    "ExecuteTime": {
     "end_time": "2018-06-09T23:40:50.946000-05:00",
     "start_time": "2018-06-10T04:40:50.257Z"
    }
   },
   "outputs": [
    {
     "name": "stdout",
     "output_type": "stream",
     "text": [
      "Expr\n",
      "  head: Symbol call\n",
      "  args: Array{Any}((3,))\n",
      "    1: Symbol +\n",
      "    2: Int64 1\n",
      "    3: Int64 1\n",
      "  typ: Any\n"
     ]
    }
   ],
   "source": [
    "dump(ex2)"
   ]
  },
  {
   "cell_type": "code",
   "execution_count": 10,
   "metadata": {
    "ExecuteTime": {
     "end_time": "2018-06-09T23:43:32.953000-05:00",
     "start_time": "2018-06-10T04:43:32.949Z"
    }
   },
   "outputs": [
    {
     "data": {
      "text/plain": [
       ":((4 + 4) / 2)"
      ]
     },
     "execution_count": 10,
     "metadata": {},
     "output_type": "execute_result"
    }
   ],
   "source": [
    "# nesting Expr\n",
    "ex3 = parse(\"(4 + 4) / 2\")"
   ]
  },
  {
   "cell_type": "code",
   "execution_count": 11,
   "metadata": {
    "ExecuteTime": {
     "end_time": "2018-06-09T23:45:19.095000-05:00",
     "start_time": "2018-06-10T04:45:18.993Z"
    }
   },
   "outputs": [
    {
     "name": "stdout",
     "output_type": "stream",
     "text": [
      "(:call, :/, (:call, :+, 4, 4), 2)"
     ]
    }
   ],
   "source": [
    "Meta.show_sexpr(ex3)"
   ]
  },
  {
   "cell_type": "markdown",
   "metadata": {},
   "source": [
    "# Symbols"
   ]
  },
  {
   "cell_type": "code",
   "execution_count": 12,
   "metadata": {
    "ExecuteTime": {
     "end_time": "2018-06-09T23:46:47.302000-05:00",
     "start_time": "2018-06-10T04:46:47.301Z"
    }
   },
   "outputs": [
    {
     "data": {
      "text/plain": [
       ":foo"
      ]
     },
     "execution_count": 12,
     "metadata": {},
     "output_type": "execute_result"
    }
   ],
   "source": [
    ":foo"
   ]
  },
  {
   "cell_type": "code",
   "execution_count": 13,
   "metadata": {
    "ExecuteTime": {
     "end_time": "2018-06-09T23:46:57.250000-05:00",
     "start_time": "2018-06-10T04:46:57.241Z"
    }
   },
   "outputs": [
    {
     "data": {
      "text/plain": [
       "Symbol"
      ]
     },
     "execution_count": 13,
     "metadata": {},
     "output_type": "execute_result"
    }
   ],
   "source": [
    "typeof(ans)"
   ]
  },
  {
   "cell_type": "code",
   "execution_count": 14,
   "metadata": {
    "ExecuteTime": {
     "end_time": "2018-06-09T23:47:57.556000-05:00",
     "start_time": "2018-06-10T04:47:57.554Z"
    }
   },
   "outputs": [
    {
     "data": {
      "text/plain": [
       "true"
      ]
     },
     "execution_count": 14,
     "metadata": {},
     "output_type": "execute_result"
    }
   ],
   "source": [
    ":foo == Symbol(\"foo\")"
   ]
  },
  {
   "cell_type": "code",
   "execution_count": 15,
   "metadata": {
    "ExecuteTime": {
     "end_time": "2018-06-09T23:48:25.508000-05:00",
     "start_time": "2018-06-10T04:48:25.505Z"
    }
   },
   "outputs": [
    {
     "data": {
      "text/plain": [
       ":func10"
      ]
     },
     "execution_count": 15,
     "metadata": {},
     "output_type": "execute_result"
    }
   ],
   "source": [
    "Symbol(\"func\", 10)"
   ]
  },
  {
   "cell_type": "code",
   "execution_count": 16,
   "metadata": {
    "ExecuteTime": {
     "end_time": "2018-06-09T23:49:08.066000-05:00",
     "start_time": "2018-06-10T04:49:08.049Z"
    }
   },
   "outputs": [
    {
     "data": {
      "text/plain": [
       ":var_sym"
      ]
     },
     "execution_count": 16,
     "metadata": {},
     "output_type": "execute_result"
    }
   ],
   "source": [
    "Symbol(:var, '_', \"sym\")"
   ]
  },
  {
   "cell_type": "code",
   "execution_count": 17,
   "metadata": {
    "ExecuteTime": {
     "end_time": "2018-06-09T23:49:53.280000-05:00",
     "start_time": "2018-06-10T04:49:53.276Z"
    }
   },
   "outputs": [
    {
     "data": {
      "text/plain": [
       ":(:)"
      ]
     },
     "execution_count": 17,
     "metadata": {},
     "output_type": "execute_result"
    }
   ],
   "source": [
    ":(:)"
   ]
  },
  {
   "cell_type": "code",
   "execution_count": 18,
   "metadata": {
    "ExecuteTime": {
     "end_time": "2018-06-09T23:50:02.447000-05:00",
     "start_time": "2018-06-10T04:50:02.442Z"
    }
   },
   "outputs": [
    {
     "data": {
      "text/plain": [
       ":(::)"
      ]
     },
     "execution_count": 18,
     "metadata": {},
     "output_type": "execute_result"
    }
   ],
   "source": [
    ":(::)"
   ]
  },
  {
   "cell_type": "markdown",
   "metadata": {},
   "source": [
    "# Expressions"
   ]
  },
  {
   "cell_type": "markdown",
   "metadata": {},
   "source": [
    "## Quoting"
   ]
  },
  {
   "cell_type": "markdown",
   "metadata": {},
   "source": [
    "`:` creates expressions without using `Expr` explicitly.\n",
    "\n",
    "**Julia** calls this *quoting*."
   ]
  },
  {
   "cell_type": "code",
   "execution_count": 19,
   "metadata": {
    "ExecuteTime": {
     "end_time": "2018-06-09T23:53:51.369000-05:00",
     "start_time": "2018-06-10T04:53:51.365Z"
    }
   },
   "outputs": [
    {
     "data": {
      "text/plain": [
       ":(a + b * c + 1)"
      ]
     },
     "execution_count": 19,
     "metadata": {},
     "output_type": "execute_result"
    }
   ],
   "source": [
    "ex = :(a+b*c+1)"
   ]
  },
  {
   "cell_type": "code",
   "execution_count": 20,
   "metadata": {
    "ExecuteTime": {
     "end_time": "2018-06-09T23:54:05.705000-05:00",
     "start_time": "2018-06-10T04:54:05.702Z"
    }
   },
   "outputs": [
    {
     "data": {
      "text/plain": [
       "Expr"
      ]
     },
     "execution_count": 20,
     "metadata": {},
     "output_type": "execute_result"
    }
   ],
   "source": [
    "typeof(ex)"
   ]
  },
  {
   "cell_type": "code",
   "execution_count": 21,
   "metadata": {
    "ExecuteTime": {
     "end_time": "2018-06-09T23:54:22.641000-05:00",
     "start_time": "2018-06-10T04:54:22.638Z"
    }
   },
   "outputs": [
    {
     "name": "stdout",
     "output_type": "stream",
     "text": [
      "Expr\n",
      "  head: Symbol call\n",
      "  args: Array{Any}((4,))\n",
      "    1: Symbol +\n",
      "    2: Symbol a\n",
      "    3: Expr\n",
      "      head: Symbol call\n",
      "      args: Array{Any}((3,))\n",
      "        1: Symbol *\n",
      "        2: Symbol b\n",
      "        3: Symbol c\n",
      "      typ: Any\n",
      "    4: Int64 1\n",
      "  typ: Any\n"
     ]
    }
   ],
   "source": [
    "dump(ex)"
   ]
  },
  {
   "cell_type": "code",
   "execution_count": 22,
   "metadata": {
    "ExecuteTime": {
     "end_time": "2018-06-09T23:58:03.494000-05:00",
     "start_time": "2018-06-10T04:58:03.481Z"
    }
   },
   "outputs": [
    {
     "data": {
      "text/plain": [
       "true"
      ]
     },
     "execution_count": 22,
     "metadata": {},
     "output_type": "execute_result"
    }
   ],
   "source": [
    ":(a + b*c + 1)  ==\n",
    "    parse(\"a + b*c + 1\") ==\n",
    "    Expr(:call, :+, :a, Expr(:call, :*, :b, :c), 1)"
   ]
  },
  {
   "cell_type": "code",
   "execution_count": 24,
   "metadata": {
    "ExecuteTime": {
     "end_time": "2018-06-10T00:00:16.329000-05:00",
     "start_time": "2018-06-10T05:00:16.249Z"
    }
   },
   "outputs": [
    {
     "data": {
      "text/plain": [
       "quote  # In[24], line 2:\n",
       "    x = 1 # In[24], line 3:\n",
       "    y = 2 # In[24], line 4:\n",
       "    x + y\n",
       "end"
      ]
     },
     "execution_count": 24,
     "metadata": {},
     "output_type": "execute_result"
    }
   ],
   "source": [
    "ex = quote\n",
    "    x = 1\n",
    "    y = 2\n",
    "    x + y\n",
    "end"
   ]
  },
  {
   "cell_type": "code",
   "execution_count": 25,
   "metadata": {
    "ExecuteTime": {
     "end_time": "2018-06-10T00:00:56.923000-05:00",
     "start_time": "2018-06-10T05:00:56.920Z"
    }
   },
   "outputs": [
    {
     "data": {
      "text/plain": [
       "Expr"
      ]
     },
     "execution_count": 25,
     "metadata": {},
     "output_type": "execute_result"
    }
   ],
   "source": [
    "typeof(ex)"
   ]
  },
  {
   "cell_type": "markdown",
   "metadata": {},
   "source": [
    "## Interpolation"
   ]
  },
  {
   "cell_type": "markdown",
   "metadata": {},
   "source": [
    "*splicing* is done with the `$` prefix.\n",
    "\n",
    "*Interpolate the literal value of `a`:"
   ]
  },
  {
   "cell_type": "code",
   "execution_count": 26,
   "metadata": {
    "ExecuteTime": {
     "end_time": "2018-06-10T00:04:38.562000-05:00",
     "start_time": "2018-06-10T05:04:38.561Z"
    }
   },
   "outputs": [],
   "source": [
    "a = 1;"
   ]
  },
  {
   "cell_type": "code",
   "execution_count": 27,
   "metadata": {
    "ExecuteTime": {
     "end_time": "2018-06-10T00:05:15.970000-05:00",
     "start_time": "2018-06-10T05:05:15.966Z"
    }
   },
   "outputs": [
    {
     "data": {
      "text/plain": [
       ":(1 + b)"
      ]
     },
     "execution_count": 27,
     "metadata": {},
     "output_type": "execute_result"
    }
   ],
   "source": [
    "ex = :($a + b)"
   ]
  },
  {
   "cell_type": "markdown",
   "metadata": {},
   "source": [
    "*Interpolate* the tuple (1,2,3) as an expression into a conditional test:"
   ]
  },
  {
   "cell_type": "code",
   "execution_count": 28,
   "metadata": {
    "ExecuteTime": {
     "end_time": "2018-06-10T00:07:35.060000-05:00",
     "start_time": "2018-06-10T05:07:35.057Z"
    }
   },
   "outputs": [
    {
     "data": {
      "text/plain": [
       ":(a in (1, 2, 3))"
      ]
     },
     "execution_count": 28,
     "metadata": {},
     "output_type": "execute_result"
    }
   ],
   "source": [
    "ex = :(a in $:((1,2,3)) )"
   ]
  },
  {
   "cell_type": "code",
   "execution_count": 30,
   "metadata": {
    "ExecuteTime": {
     "end_time": "2018-06-10T00:09:52.780000-05:00",
     "start_time": "2018-06-10T05:09:52.766Z"
    }
   },
   "outputs": [
    {
     "data": {
      "text/plain": [
       ":(:a in :a + :b)"
      ]
     },
     "execution_count": 30,
     "metadata": {},
     "output_type": "execute_result"
    }
   ],
   "source": [
    ":( :a in $( :(:a + :b) ) )"
   ]
  },
  {
   "cell_type": "markdown",
   "metadata": {},
   "source": [
    "## `eval()`  and effects"
   ]
  },
  {
   "cell_type": "markdown",
   "metadata": {},
   "source": [
    "**Julia** will execute at global scope using `eval()`:"
   ]
  },
  {
   "cell_type": "code",
   "execution_count": 31,
   "metadata": {
    "ExecuteTime": {
     "end_time": "2018-06-10T00:13:54.376000-05:00",
     "start_time": "2018-06-10T05:13:54.370Z"
    }
   },
   "outputs": [
    {
     "data": {
      "text/plain": [
       ":(1 + 2)"
      ]
     },
     "execution_count": 31,
     "metadata": {},
     "output_type": "execute_result"
    }
   ],
   "source": [
    ":(1 + 2)"
   ]
  },
  {
   "cell_type": "code",
   "execution_count": 32,
   "metadata": {
    "ExecuteTime": {
     "end_time": "2018-06-10T00:14:13.913000-05:00",
     "start_time": "2018-06-10T05:14:13.658Z"
    }
   },
   "outputs": [
    {
     "data": {
      "text/plain": [
       "3"
      ]
     },
     "execution_count": 32,
     "metadata": {},
     "output_type": "execute_result"
    }
   ],
   "source": [
    "eval(ans)"
   ]
  },
  {
   "cell_type": "code",
   "execution_count": 33,
   "metadata": {
    "ExecuteTime": {
     "end_time": "2018-06-10T00:14:40.614000-05:00",
     "start_time": "2018-06-10T05:14:40.610Z"
    }
   },
   "outputs": [
    {
     "data": {
      "text/plain": [
       ":(a + b)"
      ]
     },
     "execution_count": 33,
     "metadata": {},
     "output_type": "execute_result"
    }
   ],
   "source": [
    "ex = :(a + b)"
   ]
  },
  {
   "cell_type": "code",
   "execution_count": 34,
   "metadata": {
    "ExecuteTime": {
     "end_time": "2018-06-10T00:14:51.083000-05:00",
     "start_time": "2018-06-10T05:14:50.919Z"
    }
   },
   "outputs": [
    {
     "ename": "LoadError",
     "evalue": "\u001b[91mUndefVarError: b not defined\u001b[39m",
     "output_type": "error",
     "traceback": [
      "\u001b[91mUndefVarError: b not defined\u001b[39m",
      "",
      "Stacktrace:",
      " [1] \u001b[1meval\u001b[22m\u001b[22m\u001b[1m(\u001b[22m\u001b[22m::Module, ::Any\u001b[1m)\u001b[22m\u001b[22m at \u001b[1m./boot.jl:235\u001b[22m\u001b[22m",
      " [2] \u001b[1meval\u001b[22m\u001b[22m\u001b[1m(\u001b[22m\u001b[22m::Any\u001b[1m)\u001b[22m\u001b[22m at \u001b[1m./boot.jl:234\u001b[22m\u001b[22m",
      " [3] \u001b[1minclude_string\u001b[22m\u001b[22m\u001b[1m(\u001b[22m\u001b[22m::String, ::String\u001b[1m)\u001b[22m\u001b[22m at \u001b[1m./loading.jl:522\u001b[22m\u001b[22m"
     ]
    }
   ],
   "source": [
    "eval(ex)"
   ]
  },
  {
   "cell_type": "code",
   "execution_count": 35,
   "metadata": {
    "ExecuteTime": {
     "end_time": "2018-06-10T00:15:10.094000-05:00",
     "start_time": "2018-06-10T05:15:10.091Z"
    }
   },
   "outputs": [],
   "source": [
    "a = 1; b = 2;"
   ]
  },
  {
   "cell_type": "code",
   "execution_count": 36,
   "metadata": {
    "ExecuteTime": {
     "end_time": "2018-06-10T00:15:16.935000-05:00",
     "start_time": "2018-06-10T05:15:16.933Z"
    }
   },
   "outputs": [
    {
     "data": {
      "text/plain": [
       "3"
      ]
     },
     "execution_count": 36,
     "metadata": {},
     "output_type": "execute_result"
    }
   ],
   "source": [
    "eval(ex)"
   ]
  },
  {
   "cell_type": "code",
   "execution_count": 37,
   "metadata": {
    "ExecuteTime": {
     "end_time": "2018-06-10T00:16:10.019000-05:00",
     "start_time": "2018-06-10T05:16:10.016Z"
    }
   },
   "outputs": [
    {
     "data": {
      "text/plain": [
       "7"
      ]
     },
     "execution_count": 37,
     "metadata": {},
     "output_type": "execute_result"
    }
   ],
   "source": [
    "a = 3; b = 4;\n",
    "eval(ex)"
   ]
  },
  {
   "cell_type": "code",
   "execution_count": 38,
   "metadata": {
    "ExecuteTime": {
     "end_time": "2018-06-10T00:16:35.541000-05:00",
     "start_time": "2018-06-10T05:16:35.540Z"
    }
   },
   "outputs": [],
   "source": [
    "a = eval(ex);"
   ]
  },
  {
   "cell_type": "code",
   "execution_count": 39,
   "metadata": {
    "ExecuteTime": {
     "end_time": "2018-06-10T00:16:51.459000-05:00",
     "start_time": "2018-06-10T05:16:51.457Z"
    }
   },
   "outputs": [
    {
     "data": {
      "text/plain": [
       "11"
      ]
     },
     "execution_count": 39,
     "metadata": {},
     "output_type": "execute_result"
    }
   ],
   "source": [
    "eval(ex)"
   ]
  },
  {
   "cell_type": "markdown",
   "metadata": {},
   "source": [
    "Each [module]() has it's own `eval()` function. Expressions may have *side-effects* that alter the state of the module's environment:"
   ]
  },
  {
   "cell_type": "code",
   "execution_count": 41,
   "metadata": {
    "ExecuteTime": {
     "end_time": "2018-06-10T00:21:44.004000-05:00",
     "start_time": "2018-06-10T05:21:43.999Z"
    }
   },
   "outputs": [
    {
     "data": {
      "text/plain": [
       ":(x = 1)"
      ]
     },
     "execution_count": 41,
     "metadata": {},
     "output_type": "execute_result"
    }
   ],
   "source": [
    "ex = :(x = 1)"
   ]
  },
  {
   "cell_type": "code",
   "execution_count": 42,
   "metadata": {
    "ExecuteTime": {
     "end_time": "2018-06-10T00:21:51.357000-05:00",
     "start_time": "2018-06-10T05:21:51.352Z"
    }
   },
   "outputs": [
    {
     "ename": "LoadError",
     "evalue": "\u001b[91mUndefVarError: x not defined\u001b[39m",
     "output_type": "error",
     "traceback": [
      "\u001b[91mUndefVarError: x not defined\u001b[39m",
      "",
      "Stacktrace:",
      " [1] \u001b[1minclude_string\u001b[22m\u001b[22m\u001b[1m(\u001b[22m\u001b[22m::String, ::String\u001b[1m)\u001b[22m\u001b[22m at \u001b[1m./loading.jl:522\u001b[22m\u001b[22m"
     ]
    }
   ],
   "source": [
    "x"
   ]
  },
  {
   "cell_type": "code",
   "execution_count": 43,
   "metadata": {
    "ExecuteTime": {
     "end_time": "2018-06-10T00:21:58.877000-05:00",
     "start_time": "2018-06-10T05:21:58.874Z"
    }
   },
   "outputs": [
    {
     "data": {
      "text/plain": [
       "1"
      ]
     },
     "execution_count": 43,
     "metadata": {},
     "output_type": "execute_result"
    }
   ],
   "source": [
    "eval(ex)"
   ]
  },
  {
   "cell_type": "code",
   "execution_count": 44,
   "metadata": {
    "ExecuteTime": {
     "end_time": "2018-06-10T00:22:26.403000-05:00",
     "start_time": "2018-06-10T05:22:26.399Z"
    }
   },
   "outputs": [
    {
     "data": {
      "text/plain": [
       "1"
      ]
     },
     "execution_count": 44,
     "metadata": {},
     "output_type": "execute_result"
    }
   ],
   "source": [
    "x"
   ]
  },
  {
   "cell_type": "markdown",
   "metadata": {},
   "source": [
    "With **Julia**, we can dynamically generate and execute arbitrary code:"
   ]
  },
  {
   "cell_type": "code",
   "execution_count": 45,
   "metadata": {
    "ExecuteTime": {
     "end_time": "2018-06-10T00:24:07.710000-05:00",
     "start_time": "2018-06-10T05:24:07.708Z"
    }
   },
   "outputs": [],
   "source": [
    "a = 1;"
   ]
  },
  {
   "cell_type": "code",
   "execution_count": 46,
   "metadata": {
    "ExecuteTime": {
     "end_time": "2018-06-10T00:24:30.904000-05:00",
     "start_time": "2018-06-10T05:24:30.901Z"
    }
   },
   "outputs": [
    {
     "data": {
      "text/plain": [
       ":(1 + b)"
      ]
     },
     "execution_count": 46,
     "metadata": {},
     "output_type": "execute_result"
    }
   ],
   "source": [
    "ex = Expr(:call, :+, a, :b)"
   ]
  },
  {
   "cell_type": "code",
   "execution_count": 47,
   "metadata": {
    "ExecuteTime": {
     "end_time": "2018-06-10T00:25:07.028000-05:00",
     "start_time": "2018-06-10T05:25:07.025Z"
    }
   },
   "outputs": [],
   "source": [
    "a = 0; b = 2;"
   ]
  },
  {
   "cell_type": "code",
   "execution_count": 48,
   "metadata": {
    "ExecuteTime": {
     "end_time": "2018-06-10T00:25:12.027000-05:00",
     "start_time": "2018-06-10T05:25:12.023Z"
    }
   },
   "outputs": [
    {
     "data": {
      "text/plain": [
       "3"
      ]
     },
     "execution_count": 48,
     "metadata": {},
     "output_type": "execute_result"
    }
   ],
   "source": [
    "eval(ex)"
   ]
  },
  {
   "cell_type": "code",
   "execution_count": 49,
   "metadata": {
    "ExecuteTime": {
     "end_time": "2018-06-10T00:27:01.027000-05:00",
     "start_time": "2018-06-10T05:27:00.661Z"
    }
   },
   "outputs": [
    {
     "data": {
      "text/plain": [
       "math_expr (generic function with 1 method)"
      ]
     },
     "execution_count": 49,
     "metadata": {},
     "output_type": "execute_result"
    }
   ],
   "source": [
    "function math_expr(op, op1, op2)\n",
    "    expr = Expr(:call, op, op1, op2)\n",
    "    return expr\n",
    "end"
   ]
  },
  {
   "cell_type": "code",
   "execution_count": 50,
   "metadata": {
    "ExecuteTime": {
     "end_time": "2018-06-10T00:28:27.269000-05:00",
     "start_time": "2018-06-10T05:28:27.260Z"
    }
   },
   "outputs": [
    {
     "data": {
      "text/plain": [
       ":(1 + 4 * 5)"
      ]
     },
     "execution_count": 50,
     "metadata": {},
     "output_type": "execute_result"
    }
   ],
   "source": [
    "ex = math_expr(:+, 1, Expr(:call, :*, 4, 5))"
   ]
  },
  {
   "cell_type": "code",
   "execution_count": 51,
   "metadata": {
    "ExecuteTime": {
     "end_time": "2018-06-10T00:29:01.888000-05:00",
     "start_time": "2018-06-10T05:29:01.885Z"
    }
   },
   "outputs": [
    {
     "data": {
      "text/plain": [
       "21"
      ]
     },
     "execution_count": 51,
     "metadata": {},
     "output_type": "execute_result"
    }
   ],
   "source": [
    "eval(ex)"
   ]
  },
  {
   "cell_type": "code",
   "execution_count": 52,
   "metadata": {
    "ExecuteTime": {
     "end_time": "2018-06-10T00:30:33.309000-05:00",
     "start_time": "2018-06-10T05:30:33.199Z"
    }
   },
   "outputs": [
    {
     "data": {
      "text/plain": [
       "make_expr2 (generic function with 1 method)"
      ]
     },
     "execution_count": 52,
     "metadata": {},
     "output_type": "execute_result"
    }
   ],
   "source": [
    "function make_expr2(op, opr1, opr2)\n",
    "    opr1f, opr2f = map(x -> isa(x, Number) ? 2*x : x, (opr1, opr2))\n",
    "    retexpr = Expr(:call, op, opr1f, opr2f)\n",
    "    return retexpr\n",
    "end"
   ]
  },
  {
   "cell_type": "code",
   "execution_count": 53,
   "metadata": {
    "ExecuteTime": {
     "end_time": "2018-06-10T00:30:46.932000-05:00",
     "start_time": "2018-06-10T05:30:46.921Z"
    }
   },
   "outputs": [
    {
     "data": {
      "text/plain": [
       ":(2 + 4)"
      ]
     },
     "execution_count": 53,
     "metadata": {},
     "output_type": "execute_result"
    }
   ],
   "source": [
    "make_expr2(:+, 1, 2)"
   ]
  },
  {
   "cell_type": "code",
   "execution_count": 54,
   "metadata": {
    "ExecuteTime": {
     "end_time": "2018-06-10T00:31:34.969000-05:00",
     "start_time": "2018-06-10T05:31:34.957Z"
    }
   },
   "outputs": [
    {
     "data": {
      "text/plain": [
       ":(2 + 5 * 8)"
      ]
     },
     "execution_count": 54,
     "metadata": {},
     "output_type": "execute_result"
    }
   ],
   "source": [
    "ex = make_expr2(:+, 1, Expr(:call, :*, 5, 8))"
   ]
  },
  {
   "cell_type": "code",
   "execution_count": 55,
   "metadata": {
    "ExecuteTime": {
     "end_time": "2018-06-10T00:32:18.263000-05:00",
     "start_time": "2018-06-10T05:32:18.261Z"
    }
   },
   "outputs": [
    {
     "data": {
      "text/plain": [
       "42"
      ]
     },
     "execution_count": 55,
     "metadata": {},
     "output_type": "execute_result"
    }
   ],
   "source": [
    "eval(ex)"
   ]
  },
  {
   "cell_type": "markdown",
   "metadata": {},
   "source": [
    "## Macros"
   ]
  },
  {
   "cell_type": "code",
   "execution_count": 57,
   "metadata": {
    "ExecuteTime": {
     "end_time": "2018-06-10T00:41:55.599000-05:00",
     "start_time": "2018-06-10T05:41:55.482Z"
    }
   },
   "outputs": [
    {
     "data": {
      "text/plain": [
       "@sayhello (macro with 1 method)"
      ]
     },
     "execution_count": 57,
     "metadata": {},
     "output_type": "execute_result"
    }
   ],
   "source": [
    "macro sayhello()\n",
    "    return :( println(\"Hello, world!\") )\n",
    "end"
   ]
  },
  {
   "cell_type": "markdown",
   "metadata": {},
   "source": [
    "Compiler replaces all `@sayhello` with `:( println(\"Hello, world!\") )`"
   ]
  },
  {
   "cell_type": "markdown",
   "metadata": {},
   "source": [
    "When `@sayhello` is entered in the REPL, the expression executes immediately, so we only see the result:"
   ]
  },
  {
   "cell_type": "code",
   "execution_count": 58,
   "metadata": {
    "ExecuteTime": {
     "end_time": "2018-06-10T00:46:51.792000-05:00",
     "start_time": "2018-06-10T05:46:51.741Z"
    }
   },
   "outputs": [
    {
     "name": "stdout",
     "output_type": "stream",
     "text": [
      "Hello, world!\n"
     ]
    }
   ],
   "source": [
    "@sayhello"
   ]
  },
  {
   "cell_type": "code",
   "execution_count": 59,
   "metadata": {
    "ExecuteTime": {
     "end_time": "2018-06-10T00:48:02.725000-05:00",
     "start_time": "2018-06-10T05:48:02.721Z"
    }
   },
   "outputs": [
    {
     "data": {
      "text/plain": [
       "@sayhello (macro with 2 methods)"
      ]
     },
     "execution_count": 59,
     "metadata": {},
     "output_type": "execute_result"
    }
   ],
   "source": [
    "macro sayhello(name)\n",
    "    return :( println(\"Hello, \", $name) )\n",
    "end"
   ]
  },
  {
   "cell_type": "code",
   "execution_count": 60,
   "metadata": {
    "ExecuteTime": {
     "end_time": "2018-06-10T00:49:21.604000-05:00",
     "start_time": "2018-06-10T05:49:21.571Z"
    }
   },
   "outputs": [
    {
     "name": "stdout",
     "output_type": "stream",
     "text": [
      "Hello, human\n"
     ]
    }
   ],
   "source": [
    "@sayhello(\"human\")"
   ]
  },
  {
   "cell_type": "code",
   "execution_count": 61,
   "metadata": {
    "ExecuteTime": {
     "end_time": "2018-06-10T00:50:17.328000-05:00",
     "start_time": "2018-06-10T05:50:17.234Z"
    }
   },
   "outputs": [
    {
     "data": {
      "text/plain": [
       ":((Main.println)(\"Hello, \", \"human\"))"
      ]
     },
     "execution_count": 61,
     "metadata": {},
     "output_type": "execute_result"
    }
   ],
   "source": [
    "ex = macroexpand( :(@sayhello(\"human\")))"
   ]
  },
  {
   "cell_type": "code",
   "execution_count": 62,
   "metadata": {
    "ExecuteTime": {
     "end_time": "2018-06-10T00:50:46.786000-05:00",
     "start_time": "2018-06-10T05:50:46.783Z"
    }
   },
   "outputs": [
    {
     "data": {
      "text/plain": [
       "Expr"
      ]
     },
     "execution_count": 62,
     "metadata": {},
     "output_type": "execute_result"
    }
   ],
   "source": [
    "typeof(ex)"
   ]
  },
  {
   "cell_type": "code",
   "execution_count": 63,
   "metadata": {
    "ExecuteTime": {
     "end_time": "2018-06-10T00:51:43.940000-05:00",
     "start_time": "2018-06-10T05:51:43.931Z"
    }
   },
   "outputs": [
    {
     "data": {
      "text/plain": [
       ":((Main.println)(\"Hello, \", \"human\"))"
      ]
     },
     "execution_count": 63,
     "metadata": {},
     "output_type": "execute_result"
    }
   ],
   "source": [
    "@macroexpand @sayhello \"human\""
   ]
  },
  {
   "cell_type": "code",
   "execution_count": null,
   "metadata": {},
   "outputs": [],
   "source": []
  }
 ],
 "metadata": {
  "kernelspec": {
   "display_name": "Julia 0.6.2",
   "language": "julia",
   "name": "julia-0.6"
  },
  "language_info": {
   "file_extension": ".jl",
   "mimetype": "application/julia",
   "name": "julia",
   "version": "0.6.2"
  }
 },
 "nbformat": 4,
 "nbformat_minor": 2
}
