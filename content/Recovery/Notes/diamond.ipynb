{
 "cells": [
  {
   "cell_type": "markdown",
   "metadata": {},
   "source": [
    "# Diamond\n",
    "\n",
    "---\n",
    "### jeh\n",
    "### 7Jun2018\n",
    "---"
   ]
  },
  {
   "cell_type": "markdown",
   "metadata": {},
   "source": [
    "---\n",
    ">Jack's father called this morning, as my father and I arrived at `BAC House 3`.\n",
    ">\n",
    ">I did the mature thing, and ran away as he said it.\n",
    "---"
   ]
  },
  {
   "cell_type": "markdown",
   "metadata": {},
   "source": [
    "The night prior I had argued audibly, against a familiar and intimidating voice that seems to lack a material form, yet, just as last night, it is obsessed with torturing me over every past mistake. This heated exchange dragged on until `4am` at last *time-check*, and consisted of a repeated assault on my self because I \"**Did this to him**\", and now \"**He is going to do this until he gets back at you**,\" and \"**You killed him**\". \n",
    "\n",
    "---\n",
    "\n",
    "Its all bullshit, of course, but, it still hurts.\n",
    "\n",
    "---\n",
    "\n",
    "\"Anyway, you're not real, even *if* I could really hear *you*, there is no way you could here me!\"\n",
    "\n",
    "It didn't seem to dissuade him, even as I whispered to prevent my Love from awakening. She must be exhausted from my inability to sleep in peace.\n",
    "\n",
    "He turned his attention to *other* ways in which I am a *sick, selfish, prick*, and then his go-to wherein he reminds me of the crimes against those I most love.III\n",
    "\n",
    "\n",
    "Eventually, I managed to sleep.\n",
    "\n",
    "---"
   ]
  },
  {
   "cell_type": "markdown",
   "metadata": {},
   "source": [
    "So there it was; the *reminder* of [**His**]() existence, just two weeks later, that I *needed from time-to-time.*\n",
    "\n",
    "My **God** is not a good one, but he is fair. He coddled me for longer than he had to, and he warned me that a great **Change was coming on THIS thursday morning**, just two weeks ago. He warned that I would wish I had found his path sooner, with more urgency...\n",
    "\n",
    "He had shown himself when I was 7 years old; my ego refuted and attacked all that he is. He had implied that the **Guilt and the Judgement** were not of him, though they certainly would have been waranted.\n",
    "\n",
    "\n",
    "> And now Diamond is gone, and Miranda is weeping without faith, and Dad is delivering the news.\n",
    "\n"
   ]
  }
 ],
 "metadata": {
  "kernelspec": {
   "display_name": "Julia 0.6.2",
   "language": "julia",
   "name": "julia-0.6"
  },
  "language_info": {
   "file_extension": ".jl",
   "mimetype": "application/julia",
   "name": "julia",
   "version": "0.6.2"
  }
 },
 "nbformat": 4,
 "nbformat_minor": 2
}
