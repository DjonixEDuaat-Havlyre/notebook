{
 "cells": [
  {
   "cell_type": "code",
   "execution_count": null,
   "metadata": {},
   "outputs": [],
   "source": [
    "# `:` is waiting for val,\n",
    "# `$` will take it now\n",
    "\n",
    "chry = 7\n",
    "\n",
    "muti = :($chrx/$chry)"
   ]
  },
  {
   "cell_type": "code",
   "execution_count": null,
   "metadata": {},
   "outputs": [],
   "source": [
    "typeof(muti)"
   ]
  },
  {
   "cell_type": "code",
   "execution_count": 8,
   "metadata": {},
   "outputs": [
    {
     "name": "stdout",
     "output_type": "stream",
     "text": [
      "1 / 7\t:\t0.14285714285714285\n",
      "2 / 7\t:\t0.2857142857142857\n",
      "3 / 7\t:\t0.42857142857142855\n",
      "4 / 7\t:\t0.5714285714285714\n",
      "5 / 7\t:\t0.7142857142857143\n",
      "6 / 7\t:\t0.8571428571428571\n",
      "7 / 7\t:\t1.0\n",
      "8 / 7\t:\t1.1428571428571428\n",
      "9 / 7\t:\t1.2857142857142858\n",
      "10 / 7\t:\t1.4285714285714286\n",
      "11 / 7\t:\t1.5714285714285714\n",
      "12 / 7\t:\t1.7142857142857142\n"
     ]
    }
   ],
   "source": [
    "chry = 7\n",
    "for chrx = 1:12\n",
    "    println(:($chrx/$chry), \"\\t:\\t\", chrx/chry)\n",
    "end"
   ]
  },
  {
   "cell_type": "code",
   "execution_count": 9,
   "metadata": {},
   "outputs": [
    {
     "name": "stdout",
     "output_type": "stream",
     "text": [
      "1 * 7\t:\t7\n",
      "2 * 7\t:\t14\n",
      "3 * 7\t:\t21\n",
      "4 * 7\t:\t28\n",
      "5 * 7\t:\t35\n",
      "6 * 7\t:\t42\n",
      "7 * 7\t:\t49\n",
      "8 * 7\t:\t56\n",
      "9 * 7\t:\t63\n",
      "10 * 7\t:\t70\n",
      "11 * 7\t:\t77\n",
      "12 * 7\t:\t84\n"
     ]
    }
   ],
   "source": [
    "chry = 7\n",
    "for chrx = 1:12\n",
    "    println(:($chrx*$chry), \"\\t:\\t\", chrx*chry)\n",
    "end"
   ]
  },
  {
   "cell_type": "code",
   "execution_count": 14,
   "metadata": {},
   "outputs": [
    {
     "data": {
      "text/plain": [
       "1.714285714285714190552312174986582249402999877929687500000000000000000000000000"
      ]
     },
     "execution_count": 14,
     "metadata": {},
     "output_type": "execute_result"
    }
   ],
   "source": [
    "BigFloat(12 / 7)"
   ]
  },
  {
   "cell_type": "code",
   "execution_count": null,
   "metadata": {},
   "outputs": [],
   "source": [
    "# so 1/7 --> \n",
    "#    0.02 * 7 + \n",
    "#    0.0004 * 7 + \n",
    "#    0.000008 * 7 +"
   ]
  },
  {
   "cell_type": "code",
   "execution_count": null,
   "metadata": {},
   "outputs": [],
   "source": []
  },
  {
   "cell_type": "code",
   "execution_count": null,
   "metadata": {},
   "outputs": [],
   "source": [
    "macro mutable(chrx, chry)\n",
    "    return :(/($chrx, $chry), \"\\t:\\t\")\n",
    "end"
   ]
  },
  {
   "cell_type": "code",
   "execution_count": null,
   "metadata": {},
   "outputs": [],
   "source": [
    "@mutable(1:7, 7)"
   ]
  },
  {
   "cell_type": "code",
   "execution_count": null,
   "metadata": {},
   "outputs": [],
   "source": []
  }
 ],
 "metadata": {
  "kernelspec": {
   "display_name": "Julia 0.6.2",
   "language": "julia",
   "name": "julia-0.6"
  },
  "language_info": {
   "file_extension": ".jl",
   "mimetype": "application/julia",
   "name": "julia",
   "version": "0.6.2"
  }
 },
 "nbformat": 4,
 "nbformat_minor": 2
}
