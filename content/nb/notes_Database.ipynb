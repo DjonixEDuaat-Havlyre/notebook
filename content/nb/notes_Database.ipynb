{
 "cells": [
  {
   "cell_type": "markdown",
   "metadata": {},
   "source": [
    "# juliaDB install management"
   ]
  },
  {
   "cell_type": "code",
   "execution_count": 1,
   "metadata": {
    "ExecuteTime": {
     "end_time": "2018-06-10T15:31:03.021000-05:00",
     "start_time": "2018-06-10T20:29:41.806Z"
    }
   },
   "outputs": [
    {
     "name": "stderr",
     "output_type": "stream",
     "text": [
      "\u001b[1m\u001b[36mINFO: \u001b[39m\u001b[22m\u001b[36mPackage JuliaDB is already installed\n",
      "\u001b[39m\u001b[1m\u001b[36mINFO: \u001b[39m\u001b[22m\u001b[36mMETADATA is out-of-date — you may not have the latest version of JuliaDB\n",
      "\u001b[39m\u001b[1m\u001b[36mINFO: \u001b[39m\u001b[22m\u001b[36mUse `Pkg.update()` to get the latest versions of your packages\n",
      "\u001b[39m"
     ]
    }
   ],
   "source": [
    "Pkg.add(\"JuliaDB\")"
   ]
  },
  {
   "cell_type": "code",
   "execution_count": 2,
   "metadata": {
    "ExecuteTime": {
     "end_time": "2018-06-10T15:38:48.203000-05:00",
     "start_time": "2018-06-10T20:32:44.160Z"
    },
    "scrolled": true
   },
   "outputs": [
    {
     "name": "stderr",
     "output_type": "stream",
     "text": [
      "\u001b[1m\u001b[36mINFO: \u001b[39m\u001b[22m\u001b[36mUpdating METADATA...\n",
      "\u001b[39m\u001b[1m\u001b[36mINFO: \u001b[39m\u001b[22m\u001b[36mCloning cache of CodeTools from https://github.com/JunoLab/CodeTools.jl.git\n",
      "\u001b[39m\u001b[1m\u001b[36mINFO: \u001b[39m\u001b[22m\u001b[36mCloning cache of MNIST from https://github.com/johnmyleswhite/MNIST.jl.git\n",
      "\u001b[39m\u001b[1m\u001b[36mINFO: \u001b[39m\u001b[22m\u001b[36mCloning cache of AbstractFFTs from https://github.com/JuliaMath/AbstractFFTs.jl.git\n",
      "\u001b[39m\u001b[1m\u001b[36mINFO: \u001b[39m\u001b[22m\u001b[36mCloning cache of Combinatorics from https://github.com/JuliaMath/Combinatorics.jl.git\n",
      "\u001b[39m\u001b[1m\u001b[36mINFO: \u001b[39m\u001b[22m\u001b[36mCloning cache of BufferedStreams from https://github.com/BioJulia/BufferedStreams.jl.git\n",
      "\u001b[39m\u001b[1m\u001b[36mINFO: \u001b[39m\u001b[22m\u001b[36mCloning cache of Polynomials from https://github.com/JuliaMath/Polynomials.jl.git\n",
      "\u001b[39m\u001b[1m\u001b[36mINFO: \u001b[39m\u001b[22m\u001b[36mCloning cache of CommonSubexpressions from https://github.com/rdeits/CommonSubexpressions.jl.git\n",
      "\u001b[39m\u001b[1m\u001b[36mINFO: \u001b[39m\u001b[22m\u001b[36mCloning cache of Hexagons from https://github.com/GiovineItalia/Hexagons.jl.git\n",
      "\u001b[39m\u001b[1m\u001b[36mINFO: \u001b[39m\u001b[22m\u001b[36mCloning cache of Images from https://github.com/JuliaImages/Images.jl.git\n",
      "\u001b[39m\u001b[1m\u001b[36mINFO: \u001b[39m\u001b[22m\u001b[36mCloning cache of GLM from https://github.com/JuliaStats/GLM.jl.git\n",
      "\u001b[39m\u001b[1m\u001b[36mINFO: \u001b[39m\u001b[22m\u001b[36mCloning cache of IntervalSets from https://github.com/JuliaMath/IntervalSets.jl.git\n",
      "\u001b[39m\u001b[1m\u001b[36mINFO: \u001b[39m\u001b[22m\u001b[36mCloning cache of Libz from https://github.com/BioJulia/Libz.jl.git\n",
      "\u001b[39m\u001b[1m\u001b[36mINFO: \u001b[39m\u001b[22m\u001b[36mCloning cache of PaddedViews from https://github.com/JuliaArrays/PaddedViews.jl.git\n",
      "\u001b[39m\u001b[1m\u001b[36mINFO: \u001b[39m\u001b[22m\u001b[36mCloning cache of ImageFiltering from https://github.com/JuliaImages/ImageFiltering.jl.git\n",
      "\u001b[39m\u001b[1m\u001b[36mINFO: \u001b[39m\u001b[22m\u001b[36mCloning cache of Media from https://github.com/JunoLab/Media.jl.git\n",
      "\u001b[39m\u001b[1m\u001b[36mINFO: \u001b[39m\u001b[22m\u001b[36mCloning cache of ColorTypes from https://github.com/JuliaGraphics/ColorTypes.jl.git\n",
      "\u001b[39m\u001b[1m\u001b[36mINFO: \u001b[39m\u001b[22m\u001b[36mCloning cache of Contour from https://github.com/JuliaGeometry/Contour.jl.git\n",
      "\u001b[39m\u001b[1m\u001b[36mINFO: \u001b[39m\u001b[22m\u001b[36mCloning cache of FFTViews from https://github.com/JuliaArrays/FFTViews.jl.git\n",
      "\u001b[39m\u001b[1m\u001b[36mINFO: \u001b[39m\u001b[22m\u001b[36mCloning cache of Lazy from https://github.com/MikeInnes/Lazy.jl.git\n",
      "\u001b[39m\u001b[1m\u001b[36mINFO: \u001b[39m\u001b[22m\u001b[36mCloning cache of IndirectArrays from https://github.com/JuliaArrays/IndirectArrays.jl.git\n",
      "\u001b[39m\u001b[1m\u001b[36mINFO: \u001b[39m\u001b[22m\u001b[36mCloning cache of Requires from https://github.com/MikeInnes/Requires.jl.git\n",
      "\u001b[39m\u001b[1m\u001b[36mINFO: \u001b[39m\u001b[22m\u001b[36mCloning cache of RangeArrays from https://github.com/JuliaArrays/RangeArrays.jl.git\n",
      "\u001b[39m\u001b[1m\u001b[36mINFO: \u001b[39m\u001b[22m\u001b[36mCloning cache of DiffEqDiffTools from https://github.com/JuliaDiffEq/DiffEqDiffTools.jl.git\n",
      "\u001b[39m\u001b[1m\u001b[36mINFO: \u001b[39m\u001b[22m\u001b[36mCloning cache of OnlineStatsBase from https://github.com/joshday/OnlineStatsBase.jl.git\n",
      "\u001b[39m\u001b[1m\u001b[36mINFO: \u001b[39m\u001b[22m\u001b[36mCloning cache of LightXML from https://github.com/JuliaIO/LightXML.jl.git\n",
      "\u001b[39m\u001b[1m\u001b[36mINFO: \u001b[39m\u001b[22m\u001b[36mCloning cache of CategoricalArrays from https://github.com/JuliaData/CategoricalArrays.jl.git\n",
      "\u001b[39m\u001b[1m\u001b[36mINFO: \u001b[39m\u001b[22m\u001b[36mCloning cache of Measures from https://github.com/JuliaGraphics/Measures.jl.git\n",
      "\u001b[39m\u001b[1m\u001b[36mINFO: \u001b[39m\u001b[22m\u001b[36mCloning cache of ImageTransformations from https://github.com/JuliaImages/ImageTransformations.jl.git\n",
      "\u001b[39m\u001b[1m\u001b[36mINFO: \u001b[39m\u001b[22m\u001b[36mCloning cache of Blosc from https://github.com/stevengj/Blosc.jl.git\n",
      "\u001b[39m\u001b[1m\u001b[36mINFO: \u001b[39m\u001b[22m\u001b[36mCloning cache of CodecZlib from https://github.com/bicycle1885/CodecZlib.jl.git\n",
      "\u001b[39m\u001b[1m\u001b[36mINFO: \u001b[39m\u001b[22m\u001b[36mCloning cache of MbedTLS from https://github.com/JuliaWeb/MbedTLS.jl.git\n",
      "\u001b[39m\u001b[1m\u001b[36mINFO: \u001b[39m\u001b[22m\u001b[36mCloning cache of Gadfly from https://github.com/GiovineItalia/Gadfly.jl.git\n",
      "\u001b[39m\u001b[1m\u001b[36mINFO: \u001b[39m\u001b[22m\u001b[36mCloning cache of StringDistances from https://github.com/matthieugomez/StringDistances.jl.git\n",
      "\u001b[39m\u001b[1m\u001b[36mINFO: \u001b[39m\u001b[22m\u001b[36mCloning cache of Gallium from https://github.com/Keno/Gallium.jl.git\n",
      "\u001b[39m\u001b[1m\u001b[36mINFO: \u001b[39m\u001b[22m\u001b[36mCloning cache of DocSeeker from https://github.com/pfitzseb/DocSeeker.jl.git\n",
      "\u001b[39m\u001b[1m\u001b[36mINFO: \u001b[39m\u001b[22m\u001b[36mCloning cache of BinDeps from https://github.com/JuliaLang/BinDeps.jl.git\n",
      "\u001b[39m\u001b[1m\u001b[36mINFO: \u001b[39m\u001b[22m\u001b[36mCloning cache of NNlib from https://github.com/FluxML/NNlib.jl.git\n",
      "\u001b[39m\u001b[1m\u001b[36mINFO: \u001b[39m\u001b[22m\u001b[36mCloning cache of JLD from https://github.com/JuliaIO/JLD.jl.git\n",
      "\u001b[39m\u001b[1m\u001b[36mINFO: \u001b[39m\u001b[22m\u001b[36mCloning cache of IterTools from https://github.com/JuliaCollections/IterTools.jl.git\n",
      "\u001b[39m\u001b[1m\u001b[36mINFO: \u001b[39m\u001b[22m\u001b[36mCloning cache of Blink from https://github.com/JunoLab/Blink.jl.git\n",
      "\u001b[39m\u001b[1m\u001b[36mINFO: \u001b[39m\u001b[22m\u001b[36mCloning cache of Rotations from https://github.com/FugroRoames/Rotations.jl.git\n",
      "\u001b[39m\u001b[1m\u001b[36mINFO: \u001b[39m\u001b[22m\u001b[36mCloning cache of AxisAlgorithms from https://github.com/timholy/AxisAlgorithms.jl.git\n",
      "\u001b[39m\u001b[1m\u001b[36mINFO: \u001b[39m\u001b[22m\u001b[36mCloning cache of TableTraits from https://github.com/davidanthoff/TableTraits.jl.git\n",
      "\u001b[39m\u001b[1m\u001b[36mINFO: \u001b[39m\u001b[22m\u001b[36mCloning cache of ZMQ from https://github.com/JuliaInterop/ZMQ.jl.git\n",
      "\u001b[39m\u001b[1m\u001b[36mINFO: \u001b[39m\u001b[22m\u001b[36mCloning cache of Clustering from https://github.com/JuliaStats/Clustering.jl.git\n",
      "\u001b[39m\u001b[1m\u001b[36mINFO: \u001b[39m\u001b[22m\u001b[36mCloning cache of IJulia from https://github.com/JuliaLang/IJulia.jl.git\n",
      "\u001b[39m\u001b[1m\u001b[36mINFO: \u001b[39m\u001b[22m\u001b[36mCloning cache of StatsBase from https://github.com/JuliaStats/StatsBase.jl.git\n",
      "\u001b[39m\u001b[1m\u001b[36mINFO: \u001b[39m\u001b[22m\u001b[36mCloning cache of AutoHashEquals from https://github.com/andrewcooke/AutoHashEquals.jl.git\n",
      "\u001b[39m\u001b[1m\u001b[36mINFO: \u001b[39m\u001b[22m\u001b[36mCloning cache of Logging from https://github.com/kmsquire/Logging.jl.git\n",
      "\u001b[39m\u001b[1m\u001b[36mINFO: \u001b[39m\u001b[22m\u001b[36mCloning cache of Graphics from https://github.com/JuliaGraphics/Graphics.jl.git\n",
      "\u001b[39m\u001b[1m\u001b[36mINFO: \u001b[39m\u001b[22m\u001b[36mCloning cache of MLBase from https://github.com/JuliaStats/MLBase.jl.git\n",
      "\u001b[39m\u001b[1m\u001b[36mINFO: \u001b[39m\u001b[22m\u001b[36mCloning cache of ParserCombinator from https://github.com/andrewcooke/ParserCombinator.jl.git\n",
      "\u001b[39m\u001b[1m\u001b[36mINFO: \u001b[39m\u001b[22m\u001b[36mCloning cache of MacroTools from https://github.com/MikeInnes/MacroTools.jl.git\n",
      "\u001b[39m\u001b[1m\u001b[36mINFO: \u001b[39m\u001b[22m\u001b[36mCloning cache of NamedTuples from https://github.com/JuliaData/NamedTuples.jl.git\n",
      "\u001b[39m\u001b[1m\u001b[36mINFO: \u001b[39m\u001b[22m\u001b[36mCloning cache of CustomUnitRanges from https://github.com/JuliaArrays/CustomUnitRanges.jl.git\n",
      "\u001b[39m\u001b[1m\u001b[36mINFO: \u001b[39m\u001b[22m\u001b[36mCloning cache of DataValues from https://github.com/davidanthoff/DataValues.jl.git\n",
      "\u001b[39m\u001b[1m\u001b[36mINFO: \u001b[39m\u001b[22m\u001b[36mCloning cache of Nullables from https://github.com/JuliaArchive/Nullables.jl.git\n",
      "\u001b[39m\u001b[1m\u001b[36mINFO: \u001b[39m\u001b[22m\u001b[36mCloning cache of Adapt from https://github.com/MikeInnes/Adapt.jl.git\n",
      "\u001b[39m\u001b[1m\u001b[36mINFO: \u001b[39m\u001b[22m\u001b[36mCloning cache of ScikitLearnBase from https://github.com/cstjean/ScikitLearnBase.jl.git\n",
      "\u001b[39m\u001b[1m\u001b[36mINFO: \u001b[39m\u001b[22m\u001b[36mCloning cache of URIParser from https://github.com/JuliaWeb/URIParser.jl.git\n",
      "\u001b[39m\u001b[1m\u001b[36mINFO: \u001b[39m\u001b[22m\u001b[36mCloning cache of LineSearches from https://github.com/JuliaNLSolvers/LineSearches.jl.git\n",
      "\u001b[39m\u001b[1m\u001b[36mINFO: \u001b[39m\u001b[22m\u001b[36mCloning cache of Roots from https://github.com/JuliaMath/Roots.jl.git\n",
      "\u001b[39m\u001b[1m\u001b[36mINFO: \u001b[39m\u001b[22m\u001b[36mCloning cache of WebSockets from https://github.com/JuliaWeb/WebSockets.jl.git\n",
      "\u001b[39m\u001b[1m\u001b[36mINFO: \u001b[39m\u001b[22m\u001b[36mCloning cache of IteratorInterfaceExtensions from https://github.com/davidanthoff/IteratorInterfaceExtensions.jl.git\n",
      "\u001b[39m\u001b[1m\u001b[36mINFO: \u001b[39m\u001b[22m\u001b[36mCloning cache of HttpParser from https://github.com/JuliaWeb/HttpParser.jl.git\n",
      "\u001b[39m\u001b[1m\u001b[36mINFO: \u001b[39m\u001b[22m\u001b[36mCloning cache of DataFrames from https://github.com/JuliaData/DataFrames.jl.git\n",
      "\u001b[39m\u001b[1m\u001b[36mINFO: \u001b[39m\u001b[22m\u001b[36mCloning cache of JuliaDB from https://github.com/JuliaComputing/JuliaDB.jl.git\n",
      "\u001b[39m\u001b[1m\u001b[36mINFO: \u001b[39m\u001b[22m\u001b[36mCloning cache of Distributions from https://github.com/JuliaStats/Distributions.jl.git\n",
      "\u001b[39m\u001b[1m\u001b[36mINFO: \u001b[39m\u001b[22m\u001b[36mCloning cache of CatIndices from https://github.com/JuliaArrays/CatIndices.jl.git\n",
      "\u001b[39m\u001b[1m\u001b[36mINFO: \u001b[39m\u001b[22m\u001b[36mCloning cache of ImageAxes from https://github.com/JuliaImages/ImageAxes.jl.git\n",
      "\u001b[39m\u001b[1m\u001b[36mINFO: \u001b[39m\u001b[22m\u001b[36mCloning cache of PenaltyFunctions from https://github.com/JuliaML/PenaltyFunctions.jl.git\n",
      "\u001b[39m\u001b[1m\u001b[36mINFO: \u001b[39m\u001b[22m\u001b[36mCloning cache of Atom from https://github.com/JunoLab/Atom.jl.git\n",
      "\u001b[39m\u001b[1m\u001b[36mINFO: \u001b[39m\u001b[22m\u001b[36mCloning cache of NaNMath from https://github.com/mlubin/NaNMath.jl.git\n"
     ]
    },
    {
     "name": "stderr",
     "output_type": "stream",
     "text": [
      "\u001b[39m\u001b[1m\u001b[36mINFO: \u001b[39m\u001b[22m\u001b[36mCloning cache of Rmath from https://github.com/JuliaStats/Rmath.jl.git\n",
      "\u001b[39m\u001b[1m\u001b[36mINFO: \u001b[39m\u001b[22m\u001b[36mCloning cache of DecFP from https://github.com/stevengj/DecFP.jl.git\n",
      "\u001b[39m\u001b[1m\u001b[36mINFO: \u001b[39m\u001b[22m\u001b[36mCloning cache of DataArrays from https://github.com/JuliaStats/DataArrays.jl.git\n",
      "\u001b[39m\u001b[1m\u001b[36mINFO: \u001b[39m\u001b[22m\u001b[36mCloning cache of DiffRules from https://github.com/JuliaDiff/DiffRules.jl.git\n",
      "\u001b[39m\u001b[1m\u001b[36mINFO: \u001b[39m\u001b[22m\u001b[36mCloning cache of QuantEcon from https://github.com/QuantEcon/QuantEcon.jl.git\n",
      "\u001b[39m\u001b[1m\u001b[36mINFO: \u001b[39m\u001b[22m\u001b[36mCloning cache of FFTW from https://github.com/JuliaMath/FFTW.jl.git\n",
      "\u001b[39m\u001b[1m\u001b[36mINFO: \u001b[39m\u001b[22m\u001b[36mCloning cache of ForwardDiff from https://github.com/JuliaDiff/ForwardDiff.jl.git\n",
      "\u001b[39m\u001b[1m\u001b[36mINFO: \u001b[39m\u001b[22m\u001b[36mCloning cache of SimpleTraits from https://github.com/mauro3/SimpleTraits.jl.git\n",
      "\u001b[39m\u001b[1m\u001b[36mINFO: \u001b[39m\u001b[22m\u001b[36mCloning cache of Conda from https://github.com/JuliaPy/Conda.jl.git\n",
      "\u001b[39m\u001b[1m\u001b[36mINFO: \u001b[39m\u001b[22m\u001b[36mCloning cache of WeakRefStrings from https://github.com/JuliaData/WeakRefStrings.jl.git\n",
      "\u001b[39m\u001b[1m\u001b[36mINFO: \u001b[39m\u001b[22m\u001b[36mCloning cache of Loess from https://github.com/JuliaStats/Loess.jl.git\n",
      "\u001b[39m\u001b[1m\u001b[36mINFO: \u001b[39m\u001b[22m\u001b[36mCloning cache of DataStreams from https://github.com/JuliaData/DataStreams.jl.git\n",
      "\u001b[39m\u001b[1m\u001b[36mINFO: \u001b[39m\u001b[22m\u001b[36mCloning cache of LightGraphs from https://github.com/JuliaGraphs/LightGraphs.jl.git\n",
      "\u001b[39m\u001b[1m\u001b[36mINFO: \u001b[39m\u001b[22m\u001b[36mCloning cache of AutoGrad from https://github.com/denizyuret/AutoGrad.jl.git\n",
      "\u001b[39m\u001b[1m\u001b[36mINFO: \u001b[39m\u001b[22m\u001b[36mCloning cache of Compose from https://github.com/GiovineItalia/Compose.jl.git\n",
      "\u001b[39m\u001b[1m\u001b[36mINFO: \u001b[39m\u001b[22m\u001b[36mCloning cache of ComputationalResources from https://github.com/timholy/ComputationalResources.jl.git\n",
      "\u001b[39m\u001b[1m\u001b[36mINFO: \u001b[39m\u001b[22m\u001b[36mCloning cache of HttpCommon from https://github.com/JuliaWeb/HttpCommon.jl.git\n",
      "\u001b[39m\u001b[1m\u001b[36mINFO: \u001b[39m\u001b[22m\u001b[36mCloning cache of Ratios from https://github.com/timholy/Ratios.jl.git\n",
      "\u001b[39m\u001b[1m\u001b[36mINFO: \u001b[39m\u001b[22m\u001b[36mCloning cache of NullableArrays from https://github.com/JuliaStats/NullableArrays.jl.git\n",
      "\u001b[39m\u001b[1m\u001b[36mINFO: \u001b[39m\u001b[22m\u001b[36mCloning cache of ColorVectorSpace from https://github.com/JuliaGraphics/ColorVectorSpace.jl.git\n",
      "\u001b[39m\u001b[1m\u001b[36mINFO: \u001b[39m\u001b[22m\u001b[36mCloning cache of SweepOperator from https://github.com/joshday/SweepOperator.jl.git\n",
      "\u001b[39m\u001b[1m\u001b[36mINFO: \u001b[39m\u001b[22m\u001b[36mCloning cache of RecipesBase from https://github.com/JuliaPlots/RecipesBase.jl.git\n",
      "\u001b[39m\u001b[1m\u001b[36mINFO: \u001b[39m\u001b[22m\u001b[36mCloning cache of Knet from https://github.com/denizyuret/Knet.jl.git\n",
      "\u001b[39m\u001b[1m\u001b[36mINFO: \u001b[39m\u001b[22m\u001b[36mCloning cache of FixedPointNumbers from https://github.com/JuliaMath/FixedPointNumbers.jl.git\n",
      "\u001b[39m\u001b[1m\u001b[36mINFO: \u001b[39m\u001b[22m\u001b[36mCloning cache of PooledArrays from https://github.com/JuliaComputing/PooledArrays.jl.git\n",
      "\u001b[39m\u001b[1m\u001b[36mINFO: \u001b[39m\u001b[22m\u001b[36mCloning cache of FileIO from https://github.com/JuliaIO/FileIO.jl.git\n",
      "\u001b[39m\u001b[1m\u001b[36mINFO: \u001b[39m\u001b[22m\u001b[36mCloning cache of ImageCore from https://github.com/JuliaImages/ImageCore.jl.git\n",
      "\u001b[39m\u001b[1m\u001b[36mINFO: \u001b[39m\u001b[22m\u001b[36mCloning cache of ProtoBuf from https://github.com/JuliaIO/ProtoBuf.jl.git\n",
      "\u001b[39m\u001b[1m\u001b[36mINFO: \u001b[39m\u001b[22m\u001b[36mCloning cache of Juno from https://github.com/JunoLab/Juno.jl.git\n",
      "\u001b[39m\u001b[1m\u001b[36mINFO: \u001b[39m\u001b[22m\u001b[36mCloning cache of DSP from https://github.com/JuliaDSP/DSP.jl.git\n",
      "\u001b[39m\u001b[1m\u001b[36mINFO: \u001b[39m\u001b[22m\u001b[36mCloning cache of Compat from https://github.com/JuliaLang/Compat.jl.git\n",
      "\u001b[39m\u001b[1m\u001b[36mINFO: \u001b[39m\u001b[22m\u001b[36mCloning cache of Mux from https://github.com/JuliaWeb/Mux.jl.git\n",
      "\u001b[39m\u001b[1m\u001b[36mINFO: \u001b[39m\u001b[22m\u001b[36mCloning cache of SHA from https://github.com/staticfloat/SHA.jl.git\n",
      "\u001b[39m\u001b[1m\u001b[36mINFO: \u001b[39m\u001b[22m\u001b[36mCloning cache of NamedArrays from https://github.com/davidavdav/NamedArrays.jl.git\n",
      "\u001b[39m\u001b[1m\u001b[36mINFO: \u001b[39m\u001b[22m\u001b[36mCloning cache of Iterators from https://github.com/JuliaCollections/Iterators.jl.git\n",
      "\u001b[39m\u001b[1m\u001b[36mINFO: \u001b[39m\u001b[22m\u001b[36mCloning cache of DebuggerFramework from https://github.com/Keno/DebuggerFramework.jl.git\n",
      "\u001b[39m\u001b[1m\u001b[36mINFO: \u001b[39m\u001b[22m\u001b[36mCloning cache of JSON from https://github.com/JuliaIO/JSON.jl.git\n",
      "\u001b[39m\u001b[1m\u001b[36mINFO: \u001b[39m\u001b[22m\u001b[36mCloning cache of WoodburyMatrices from https://github.com/timholy/WoodburyMatrices.jl.git\n",
      "\u001b[39m\u001b[1m\u001b[36mINFO: \u001b[39m\u001b[22m\u001b[36mCloning cache of PyPlot from https://github.com/JuliaPy/PyPlot.jl.git\n",
      "\u001b[39m\u001b[1m\u001b[36mINFO: \u001b[39m\u001b[22m\u001b[36mCloning cache of TiledIteration from https://github.com/JuliaArrays/TiledIteration.jl.git\n",
      "\u001b[39m\u001b[1m\u001b[36mINFO: \u001b[39m\u001b[22m\u001b[36mCloning cache of DecisionTree from https://github.com/bensadeghi/DecisionTree.jl.git\n",
      "\u001b[39m\u001b[1m\u001b[36mINFO: \u001b[39m\u001b[22m\u001b[36mCloning cache of ShowItLikeYouBuildIt from https://github.com/JuliaArrays/ShowItLikeYouBuildIt.jl.git\n",
      "\u001b[39m\u001b[1m\u001b[36mINFO: \u001b[39m\u001b[22m\u001b[36mCloning cache of Glob from https://github.com/vtjnash/Glob.jl.git\n",
      "\u001b[39m\u001b[1m\u001b[36mINFO: \u001b[39m\u001b[22m\u001b[36mCloning cache of CoupledFields from https://github.com/Mattriks/CoupledFields.jl.git\n",
      "\u001b[39m\u001b[1m\u001b[36mINFO: \u001b[39m\u001b[22m\u001b[36mCloning cache of LearnBase from https://github.com/JuliaML/LearnBase.jl.git\n",
      "\u001b[39m\u001b[1m\u001b[36mINFO: \u001b[39m\u001b[22m\u001b[36mCloning cache of Primes from https://github.com/JuliaMath/Primes.jl.git\n",
      "\u001b[39m\u001b[1m\u001b[36mINFO: \u001b[39m\u001b[22m\u001b[36mCloning cache of JDBC from https://github.com/JuliaDatabases/JDBC.jl.git\n",
      "\u001b[39m\u001b[1m\u001b[36mINFO: \u001b[39m\u001b[22m\u001b[36mCloning cache of Missings from https://github.com/JuliaData/Missings.jl.git\n",
      "\u001b[39m\u001b[1m\u001b[36mINFO: \u001b[39m\u001b[22m\u001b[36mCloning cache of TextParse from https://github.com/JuliaComputing/TextParse.jl.git\n",
      "\u001b[39m\u001b[1m\u001b[36mINFO: \u001b[39m\u001b[22m\u001b[36mCloning cache of BusinessDays from https://github.com/felipenoris/BusinessDays.jl.git\n",
      "\u001b[39m\u001b[1m\u001b[36mINFO: \u001b[39m\u001b[22m\u001b[36mCloning cache of JuliaWebAPI from https://github.com/JuliaWeb/JuliaWebAPI.jl.git\n",
      "\u001b[39m\u001b[1m\u001b[36mINFO: \u001b[39m\u001b[22m\u001b[36mCloning cache of Flux from https://github.com/FluxML/Flux.jl.git\n",
      "\u001b[39m\u001b[1m\u001b[36mINFO: \u001b[39m\u001b[22m\u001b[36mCloning cache of StaticArrays from https://github.com/JuliaArrays/StaticArrays.jl.git\n",
      "\u001b[39m\u001b[1m\u001b[36mINFO: \u001b[39m\u001b[22m\u001b[36mCloning cache of Parameters from https://github.com/mauro3/Parameters.jl.git\n",
      "\u001b[39m\u001b[1m\u001b[36mINFO: \u001b[39m\u001b[22m\u001b[36mCloning cache of HypothesisTests from https://github.com/JuliaStats/HypothesisTests.jl.git\n",
      "\u001b[39m\u001b[1m\u001b[36mINFO: \u001b[39m\u001b[22m\u001b[36mCloning cache of Interpolations from https://github.com/JuliaMath/Interpolations.jl.git\n",
      "\u001b[39m\u001b[1m\u001b[36mINFO: \u001b[39m\u001b[22m\u001b[36mCloning cache of Tokenize from https://github.com/KristofferC/Tokenize.jl.git\n",
      "\u001b[39m\u001b[1m\u001b[36mINFO: \u001b[39m\u001b[22m\u001b[36mCloning cache of JuMP from https://github.com/JuliaOpt/JuMP.jl.git\n",
      "\u001b[39m\u001b[1m\u001b[36mINFO: \u001b[39m\u001b[22m\u001b[36mCloning cache of ASTInterpreter2 from https://github.com/Keno/ASTInterpreter2.jl.git\n",
      "\u001b[39m\u001b[1m\u001b[36mINFO: \u001b[39m\u001b[22m\u001b[36mCloning cache of CoordinateTransformations from https://github.com/FugroRoames/CoordinateTransformations.jl.git\n",
      "\u001b[39m\u001b[1m\u001b[36mINFO: \u001b[39m\u001b[22m\u001b[36mCloning cache of Codecs from https://github.com/dcjones/Codecs.jl.git\n",
      "\u001b[39m\u001b[1m\u001b[36mINFO: \u001b[39m\u001b[22m\u001b[36mCloning cache of OffsetArrays from https://github.com/JuliaArrays/OffsetArrays.jl.git\n",
      "\u001b[39m\u001b[1m\u001b[36mINFO: \u001b[39m\u001b[22m\u001b[36mCloning cache of GZip from https://github.com/JuliaIO/GZip.jl.git\n",
      "\u001b[39m\u001b[1m\u001b[36mINFO: \u001b[39m\u001b[22m\u001b[36mCloning cache of Nulls from https://github.com/JuliaData/Nulls.jl.git\n",
      "\u001b[39m\u001b[1m\u001b[36mINFO: \u001b[39m\u001b[22m\u001b[36mCloning cache of ODBC from https://github.com/JuliaDatabases/ODBC.jl.git\n",
      "\u001b[39m\u001b[1m\u001b[36mINFO: \u001b[39m\u001b[22m\u001b[36mCloning cache of StatsFuns from https://github.com/JuliaStats/StatsFuns.jl.git\n",
      "\u001b[39m\u001b[1m\u001b[36mINFO: \u001b[39m\u001b[22m\u001b[36mCloning cache of TranscodingStreams from https://github.com/bicycle1885/TranscodingStreams.jl.git\n",
      "\u001b[39m\u001b[1m\u001b[36mINFO: \u001b[39m\u001b[22m\u001b[36mCloning cache of Formatting from https://github.com/JuliaIO/Formatting.jl.git\n",
      "\u001b[39m\u001b[1m\u001b[36mINFO: \u001b[39m\u001b[22m\u001b[36mCloning cache of TexExtensions from https://github.com/Keno/TexExtensions.jl.git\n",
      "\u001b[39m\u001b[1m\u001b[36mINFO: \u001b[39m\u001b[22m\u001b[36mCloning cache of KernelDensity from https://github.com/JuliaStats/KernelDensity.jl.git\n",
      "\u001b[39m\u001b[1m\u001b[36mINFO: \u001b[39m\u001b[22m\u001b[36mCloning cache of HDF5 from https://github.com/JuliaIO/HDF5.jl.git\n",
      "\u001b[39m\u001b[1m\u001b[36mINFO: \u001b[39m\u001b[22m\u001b[36mCloning cache of Dagger from https://github.com/JuliaParallel/Dagger.jl.git\n"
     ]
    },
    {
     "name": "stderr",
     "output_type": "stream",
     "text": [
      "\u001b[39m\u001b[1m\u001b[36mINFO: \u001b[39m\u001b[22m\u001b[36mCloning cache of Distances from https://github.com/JuliaStats/Distances.jl.git\n",
      "\u001b[39m\u001b[1m\u001b[36mINFO: \u001b[39m\u001b[22m\u001b[36mCloning cache of NLSolversBase from https://github.com/JuliaNLSolvers/NLSolversBase.jl.git\n",
      "\u001b[39m\u001b[1m\u001b[36mINFO: \u001b[39m\u001b[22m\u001b[36mCloning cache of QuadGK from https://github.com/JuliaMath/QuadGK.jl.git\n",
      "\u001b[39m\u001b[1m\u001b[36mINFO: \u001b[39m\u001b[22m\u001b[36mCloning cache of Reexport from https://github.com/simonster/Reexport.jl.git\n",
      "\u001b[39m\u001b[1m\u001b[36mINFO: \u001b[39m\u001b[22m\u001b[36mCloning cache of DBAPI from https://github.com/JuliaDatabases/DBAPI.jl.git\n",
      "\u001b[39m\u001b[1m\u001b[36mINFO: \u001b[39m\u001b[22m\u001b[36mCloning cache of ImageMetadata from https://github.com/JuliaImages/ImageMetadata.jl.git\n",
      "\u001b[39m\u001b[1m\u001b[36mINFO: \u001b[39m\u001b[22m\u001b[36mCloning cache of Interact from https://github.com/JuliaGizmos/Interact.jl.git\n",
      "\u001b[39m\u001b[1m\u001b[36mINFO: \u001b[39m\u001b[22m\u001b[36mCloning cache of Mustache from https://github.com/jverzani/Mustache.jl.git\n",
      "\u001b[39m\u001b[1m\u001b[36mINFO: \u001b[39m\u001b[22m\u001b[36mCloning cache of NearestNeighbors from https://github.com/KristofferC/NearestNeighbors.jl.git\n",
      "\u001b[39m\u001b[1m\u001b[36mINFO: \u001b[39m\u001b[22m\u001b[36mCloning cache of NLopt from https://github.com/JuliaOpt/NLopt.jl.git\n",
      "\u001b[39m\u001b[1m\u001b[36mINFO: \u001b[39m\u001b[22m\u001b[36mCloning cache of Colors from https://github.com/JuliaGraphics/Colors.jl.git\n",
      "\u001b[39m\u001b[1m\u001b[36mINFO: \u001b[39m\u001b[22m\u001b[36mCloning cache of ImageMorphology from https://github.com/JuliaImages/ImageMorphology.jl.git\n",
      "\u001b[39m\u001b[1m\u001b[36mINFO: \u001b[39m\u001b[22m\u001b[36mCloning cache of LegacyStrings from https://github.com/JuliaArchive/LegacyStrings.jl.git\n",
      "\u001b[39m\u001b[1m\u001b[36mINFO: \u001b[39m\u001b[22m\u001b[36mCloning cache of DataStructures from https://github.com/JuliaCollections/DataStructures.jl.git\n",
      "\u001b[39m\u001b[1m\u001b[36mINFO: \u001b[39m\u001b[22m\u001b[36mCloning cache of Showoff from https://github.com/JuliaGraphics/Showoff.jl.git\n",
      "\u001b[39m\u001b[1m\u001b[36mINFO: \u001b[39m\u001b[22m\u001b[36mCloning cache of MemPool from https://github.com/JuliaComputing/MemPool.jl.git\n",
      "\u001b[39m\u001b[1m\u001b[36mINFO: \u001b[39m\u001b[22m\u001b[36mCloning cache of ReverseDiffSparse from https://github.com/mlubin/ReverseDiffSparse.jl.git\n",
      "\u001b[39m\u001b[1m\u001b[36mINFO: \u001b[39m\u001b[22m\u001b[36mCloning cache of HttpServer from https://github.com/JuliaWeb/HttpServer.jl.git\n",
      "\u001b[39m\u001b[1m\u001b[36mINFO: \u001b[39m\u001b[22m\u001b[36mCloning cache of Optim from https://github.com/JuliaNLSolvers/Optim.jl.git\n",
      "\u001b[39m\u001b[1m\u001b[36mINFO: \u001b[39m\u001b[22m\u001b[36mCloning cache of SortingAlgorithms from https://github.com/JuliaCollections/SortingAlgorithms.jl.git\n",
      "\u001b[39m\u001b[1m\u001b[36mINFO: \u001b[39m\u001b[22m\u001b[36mCloning cache of JavaCall from https://github.com/JuliaInterop/JavaCall.jl.git\n",
      "\u001b[39m\u001b[1m\u001b[36mINFO: \u001b[39m\u001b[22m\u001b[36mCloning cache of PyCall from https://github.com/JuliaPy/PyCall.jl.git\n",
      "\u001b[39m\u001b[1m\u001b[36mINFO: \u001b[39m\u001b[22m\u001b[36mCloning cache of SIUnits from https://github.com/Keno/SIUnits.jl.git\n",
      "\u001b[39m\u001b[1m\u001b[36mINFO: \u001b[39m\u001b[22m\u001b[36mCloning cache of OnlineStats from https://github.com/joshday/OnlineStats.jl.git\n",
      "\u001b[39m\u001b[1m\u001b[36mINFO: \u001b[39m\u001b[22m\u001b[36mCloning cache of LossFunctions from https://github.com/JuliaML/LossFunctions.jl.git\n",
      "\u001b[39m\u001b[1m\u001b[36mINFO: \u001b[39m\u001b[22m\u001b[36mCloning cache of DataFlow from https://github.com/MikeInnes/DataFlow.jl.git\n",
      "\u001b[39m\u001b[1m\u001b[36mINFO: \u001b[39m\u001b[22m\u001b[36mCloning cache of MappedArrays from https://github.com/JuliaArrays/MappedArrays.jl.git\n",
      "\u001b[39m\u001b[1m\u001b[36mINFO: \u001b[39m\u001b[22m\u001b[36mCloning cache of IdentityRanges from https://github.com/JuliaArrays/IdentityRanges.jl.git\n",
      "\u001b[39m\u001b[1m\u001b[36mINFO: \u001b[39m\u001b[22m\u001b[36mCloning cache of LNR from https://github.com/JunoLab/LNR.jl.git\n",
      "\u001b[39m\u001b[1m\u001b[36mINFO: \u001b[39m\u001b[22m\u001b[36mCloning cache of Calculus from https://github.com/JuliaMath/Calculus.jl.git\n",
      "\u001b[39m\u001b[1m\u001b[36mINFO: \u001b[39m\u001b[22m\u001b[36mCloning cache of MathProgBase from https://github.com/JuliaOpt/MathProgBase.jl.git\n",
      "\u001b[39m\u001b[1m\u001b[36mINFO: \u001b[39m\u001b[22m\u001b[36mCloning cache of Requests from https://github.com/JuliaWeb/Requests.jl.git\n",
      "\u001b[39m\u001b[1m\u001b[36mINFO: \u001b[39m\u001b[22m\u001b[36mCloning cache of SpecialFunctions from https://github.com/JuliaMath/SpecialFunctions.jl.git\n",
      "\u001b[39m\u001b[1m\u001b[36mINFO: \u001b[39m\u001b[22m\u001b[36mCloning cache of PDMats from https://github.com/JuliaStats/PDMats.jl.git\n",
      "\u001b[39m\u001b[1m\u001b[36mINFO: \u001b[39m\u001b[22m\u001b[36mCloning cache of TableTraitsUtils from https://github.com/davidanthoff/TableTraitsUtils.jl.git\n",
      "\u001b[39m\u001b[1m\u001b[36mINFO: \u001b[39m\u001b[22m\u001b[36mCloning cache of RCall from https://github.com/JuliaInterop/RCall.jl.git\n",
      "\u001b[39m\u001b[1m\u001b[36mINFO: \u001b[39m\u001b[22m\u001b[36mCloning cache of PositiveFactorizations from https://github.com/timholy/PositiveFactorizations.jl.git\n",
      "\u001b[39m\u001b[1m\u001b[36mINFO: \u001b[39m\u001b[22m\u001b[36mCloning cache of Nettle from https://github.com/staticfloat/Nettle.jl.git\n",
      "\u001b[39m\u001b[1m\u001b[36mINFO: \u001b[39m\u001b[22m\u001b[36mCloning cache of Reactive from https://github.com/JuliaGizmos/Reactive.jl.git\n",
      "\u001b[39m\u001b[1m\u001b[36mINFO: \u001b[39m\u001b[22m\u001b[36mCloning cache of LaTeXStrings from https://github.com/stevengj/LaTeXStrings.jl.git\n",
      "\u001b[39m\u001b[1m\u001b[36mINFO: \u001b[39m\u001b[22m\u001b[36mCloning cache of AxisArrays from https://github.com/JuliaArrays/AxisArrays.jl.git\n",
      "\u001b[39m\u001b[1m\u001b[36mINFO: \u001b[39m\u001b[22m\u001b[36mCloning cache of DualNumbers from https://github.com/JuliaDiff/DualNumbers.jl.git\n",
      "\u001b[39m\u001b[1m\u001b[36mINFO: \u001b[39m\u001b[22m\u001b[36mCloning cache of IndexedTables from https://github.com/JuliaComputing/IndexedTables.jl.git\n",
      "\u001b[39m\u001b[1m\u001b[36mINFO: \u001b[39m\u001b[22m\u001b[36mCloning cache of CSV from https://github.com/JuliaData/CSV.jl.git\n",
      "\u001b[39m\u001b[1m\u001b[36mINFO: \u001b[39m\u001b[22m\u001b[36mCloning cache of Hiccup from https://github.com/JunoLab/Hiccup.jl.git\n",
      "\u001b[39m\u001b[1m\u001b[36mINFO: \u001b[39m\u001b[22m\u001b[36mCloning cache of DiffResults from https://github.com/JuliaDiff/DiffResults.jl.git\n",
      "\u001b[39m\u001b[1m\u001b[36mINFO: \u001b[39m\u001b[22m\u001b[36mComputing changes...\n",
      "\u001b[39m"
     ]
    },
    {
     "ename": "LoadError",
     "evalue": "\u001b[91mresolve is unable to satisfy package requirements.\n  The problem was detected when trying to find a feasible version\n  for package Compat.\n  However, this only means that package Compat is involved in an\n  unsatisfiable or difficult dependency relation, and the root of\n  the problem may be elsewhere.\n\u001b[39m",
     "output_type": "error",
     "traceback": [
      "\u001b[91mresolve is unable to satisfy package requirements.\n  The problem was detected when trying to find a feasible version\n  for package Compat.\n  However, this only means that package Compat is involved in an\n  unsatisfiable or difficult dependency relation, and the root of\n  the problem may be elsewhere.\n\u001b[39m",
      "",
      "Stacktrace:",
      " [1] \u001b[1mresolve\u001b[22m\u001b[22m\u001b[1m(\u001b[22m\u001b[22m::Dict{String,Base.Pkg.Types.VersionSet}, ::Dict{String,Dict{VersionNumber,Base.Pkg.Types.Available}}\u001b[1m)\u001b[22m\u001b[22m at \u001b[1m./pkg/resolve.jl:48\u001b[22m\u001b[22m",
      " [2] \u001b[1mresolve\u001b[22m\u001b[22m\u001b[1m(\u001b[22m\u001b[22m::Dict{String,Base.Pkg.Types.VersionSet}, ::Dict{String,Dict{VersionNumber,Base.Pkg.Types.Available}}, ::Dict{String,Tuple{VersionNumber,Bool}}, ::Dict{String,Base.Pkg.Types.Fixed}, ::Dict{String,VersionNumber}, ::Set{String}\u001b[1m)\u001b[22m\u001b[22m at \u001b[1m./pkg/entry.jl:499\u001b[22m\u001b[22m",
      " [3] \u001b[1mupdate\u001b[22m\u001b[22m\u001b[1m(\u001b[22m\u001b[22m::String, ::Set{String}\u001b[1m)\u001b[22m\u001b[22m at \u001b[1m./pkg/entry.jl:461\u001b[22m\u001b[22m",
      " [4] \u001b[1m(::Base.Pkg.Dir.##3#6{Array{Any,1},Base.Pkg.Entry.#update,Tuple{String,Set{String}}})\u001b[22m\u001b[22m\u001b[1m(\u001b[22m\u001b[22m\u001b[1m)\u001b[22m\u001b[22m at \u001b[1m./pkg/dir.jl:33\u001b[22m\u001b[22m",
      " [5] \u001b[1mcd\u001b[22m\u001b[22m\u001b[1m(\u001b[22m\u001b[22m::Base.Pkg.Dir.##3#6{Array{Any,1},Base.Pkg.Entry.#update,Tuple{String,Set{String}}}, ::String\u001b[1m)\u001b[22m\u001b[22m at \u001b[1m./file.jl:70\u001b[22m\u001b[22m",
      " [6] \u001b[1mwithenv\u001b[22m\u001b[22m\u001b[1m(\u001b[22m\u001b[22m::Base.Pkg.Dir.##2#5{Array{Any,1},Base.Pkg.Entry.#update,Tuple{String,Set{String}},String}, ::Pair{String,String}, ::Vararg{Pair{String,String},N} where N\u001b[1m)\u001b[22m\u001b[22m at \u001b[1m./env.jl:157\u001b[22m\u001b[22m",
      " [7] \u001b[1m#cd#1\u001b[22m\u001b[22m\u001b[1m(\u001b[22m\u001b[22m::Array{Any,1}, ::Function, ::Function, ::String, ::Vararg{Any,N} where N\u001b[1m)\u001b[22m\u001b[22m at \u001b[1m./pkg/dir.jl:32\u001b[22m\u001b[22m",
      " [8] \u001b[1mupdate\u001b[22m\u001b[22m\u001b[1m(\u001b[22m\u001b[22m::String, ::Vararg{String,N} where N\u001b[1m)\u001b[22m\u001b[22m at \u001b[1m./pkg/pkg.jl:228\u001b[22m\u001b[22m",
      " [9] \u001b[1minclude_string\u001b[22m\u001b[22m\u001b[1m(\u001b[22m\u001b[22m::String, ::String\u001b[1m)\u001b[22m\u001b[22m at \u001b[1m./loading.jl:522\u001b[22m\u001b[22m"
     ]
    }
   ],
   "source": [
    "Pkg.update(\"JuliaDB\")"
   ]
  },
  {
   "cell_type": "code",
   "execution_count": 3,
   "metadata": {
    "ExecuteTime": {
     "end_time": "2018-06-10T15:38:48.285000-05:00",
     "start_time": "2018-06-10T20:35:14.506Z"
    }
   },
   "outputs": [
    {
     "ename": "LoadError",
     "evalue": "\u001b[91mUndefVarError: addProc not defined\u001b[39m",
     "output_type": "error",
     "traceback": [
      "\u001b[91mUndefVarError: addProc not defined\u001b[39m",
      "",
      "Stacktrace:",
      " [1] \u001b[1minclude_string\u001b[22m\u001b[22m\u001b[1m(\u001b[22m\u001b[22m::String, ::String\u001b[1m)\u001b[22m\u001b[22m at \u001b[1m./loading.jl:522\u001b[22m\u001b[22m"
     ]
    }
   ],
   "source": [
    "addProc(3)  # add processes may not be useful on small data sets\n",
    "using JuliaDB"
   ]
  },
  {
   "cell_type": "code",
   "execution_count": 5,
   "metadata": {
    "ExecuteTime": {
     "end_time": "2018-06-10T15:43:34.332000-05:00",
     "start_time": "2018-06-10T20:43:32.422Z"
    }
   },
   "outputs": [],
   "source": [
    "using JuliaDB"
   ]
  },
  {
   "cell_type": "markdown",
   "metadata": {},
   "source": [
    "# API Reference"
   ]
  },
  {
   "cell_type": "markdown",
   "metadata": {},
   "source": [
    "## Data Structures"
   ]
  },
  {
   "cell_type": "markdown",
   "metadata": {},
   "source": [
    "### Table"
   ]
  },
  {
   "cell_type": "code",
   "execution_count": 6,
   "metadata": {
    "ExecuteTime": {
     "end_time": "2018-06-10T15:44:13.450000-05:00",
     "start_time": "2018-06-10T20:44:09.319Z"
    }
   },
   "outputs": [
    {
     "data": {
      "text/plain": [
       "Table with 3 rows, 2 columns:\n",
       "x  y\n",
       "────\n",
       "1  4\n",
       "2  5\n",
       "3  6"
      ]
     },
     "execution_count": 6,
     "metadata": {},
     "output_type": "execute_result"
    }
   ],
   "source": [
    "# a collection of tuples or named tuples\n",
    "# the names argument sets the column names\n",
    "# if names, the table is an iterator of named tuples\n",
    "t = table([1,2,3], [4,5,6], names=[:x, :y])"
   ]
  },
  {
   "cell_type": "code",
   "execution_count": 7,
   "metadata": {
    "ExecuteTime": {
     "end_time": "2018-06-10T15:45:16.213000-05:00",
     "start_time": "2018-06-10T20:45:15.907Z"
    }
   },
   "outputs": [
    {
     "data": {
      "text/plain": [
       "(x = 2, y = 5)"
      ]
     },
     "execution_count": 7,
     "metadata": {},
     "output_type": "execute_result"
    }
   ],
   "source": [
    "row = t[2]"
   ]
  },
  {
   "cell_type": "code",
   "execution_count": 8,
   "metadata": {
    "ExecuteTime": {
     "end_time": "2018-06-10T15:46:21.233000-05:00",
     "start_time": "2018-06-10T20:46:21.027Z"
    }
   },
   "outputs": [
    {
     "data": {
      "text/plain": [
       "2"
      ]
     },
     "execution_count": 8,
     "metadata": {},
     "output_type": "execute_result"
    }
   ],
   "source": [
    "row.x"
   ]
  },
  {
   "cell_type": "code",
   "execution_count": 9,
   "metadata": {
    "ExecuteTime": {
     "end_time": "2018-06-10T15:48:18.858000-05:00",
     "start_time": "2018-06-10T20:48:18.074Z"
    }
   },
   "outputs": [
    {
     "data": {
      "text/plain": [
       "Table with 2 rows, 2 columns:\n",
       "x  y\n",
       "────\n",
       "2  5\n",
       "3  6"
      ]
     },
     "execution_count": 9,
     "metadata": {},
     "output_type": "execute_result"
    }
   ],
   "source": [
    "# indexing a table with a range or any array of indices\n",
    "# returns a new table with a subset of rows\n",
    "t[2:3]"
   ]
  },
  {
   "cell_type": "code",
   "execution_count": 11,
   "metadata": {
    "ExecuteTime": {
     "end_time": "2018-06-10T15:49:17.616000-05:00",
     "start_time": "2018-06-10T20:49:17.544Z"
    }
   },
   "outputs": [
    {
     "data": {
      "text/plain": [
       "Table with 3 rows, 2 columns:\n",
       "x  y\n",
       "────\n",
       "1  4\n",
       "1  4\n",
       "3  6"
      ]
     },
     "execution_count": 11,
     "metadata": {},
     "output_type": "execute_result"
    }
   ],
   "source": [
    "t[[1,1,3]]"
   ]
  },
  {
   "cell_type": "code",
   "execution_count": 12,
   "metadata": {
    "ExecuteTime": {
     "end_time": "2018-06-10T15:51:48.099000-05:00",
     "start_time": "2018-06-10T20:51:46.680Z"
    }
   },
   "outputs": [
    {
     "data": {
      "text/plain": [
       "Table with 4 rows, 3 columns:\n",
       "\u001b[1mx  \u001b[22m\u001b[1my  \u001b[22mz\n",
       "───────\n",
       "1  3  5\n",
       "1  3  7\n",
       "2  1  6\n",
       "2  2  4"
      ]
     },
     "execution_count": 12,
     "metadata": {},
     "output_type": "execute_result"
    }
   ],
   "source": [
    "# using the pkey option\n",
    "#\n",
    "# Note that the pkey doesnot have to be UNIQUE\n",
    "b = table([2,1,2,1], [2,3,1,3], [4,5,6,7], names=[:x,:y,:z], pkey=(:x,:y))"
   ]
  },
  {
   "cell_type": "markdown",
   "metadata": {},
   "source": [
    "Table function\n",
    "---\n",
    "\n",
    "`table(cols::AbstractVector...; names, <options>)`"
   ]
  },
  {
   "cell_type": "code",
   "execution_count": 14,
   "metadata": {
    "ExecuteTime": {
     "end_time": "2018-06-10T15:56:12.812000-05:00",
     "start_time": "2018-06-10T20:56:12.092Z"
    }
   },
   "outputs": [
    {
     "data": {
      "text/plain": [
       "Table with 3 rows, 2 columns:\n",
       "1  2\n",
       "────\n",
       "1  4\n",
       "2  5\n",
       "3  6"
      ]
     },
     "execution_count": 14,
     "metadata": {},
     "output_type": "execute_result"
    }
   ],
   "source": [
    "a = table([1,2,3], [4,5,6])"
   ]
  },
  {
   "cell_type": "code",
   "execution_count": 16,
   "metadata": {
    "ExecuteTime": {
     "end_time": "2018-06-10T16:01:22.576000-05:00",
     "start_time": "2018-06-10T21:01:22.571Z"
    }
   },
   "outputs": [
    {
     "data": {
      "text/plain": [
       "Table with 3 rows, 2 columns:\n",
       "x  y\n",
       "────\n",
       "1  4\n",
       "2  5\n",
       "3  6"
      ]
     },
     "execution_count": 16,
     "metadata": {},
     "output_type": "execute_result"
    }
   ],
   "source": [
    "b = table([1,2,3], [4,5,6], names=[:x, :y])"
   ]
  },
  {
   "cell_type": "markdown",
   "metadata": {},
   "source": [
    "`table(cols::Union{Tuple, NamedTuple}; <options>)`"
   ]
  },
  {
   "cell_type": "code",
   "execution_count": 15,
   "metadata": {
    "ExecuteTime": {
     "end_time": "2018-06-10T15:56:14.078000-05:00",
     "start_time": "2018-06-10T20:56:13.850Z"
    }
   },
   "outputs": [
    {
     "data": {
      "text/plain": [
       "true"
      ]
     },
     "execution_count": 15,
     "metadata": {},
     "output_type": "execute_result"
    }
   ],
   "source": [
    "table(([1,2,3], [4,5,6])) == a"
   ]
  },
  {
   "cell_type": "code",
   "execution_count": 17,
   "metadata": {
    "ExecuteTime": {
     "end_time": "2018-06-10T16:01:49.536000-05:00",
     "start_time": "2018-06-10T21:01:49.293Z"
    }
   },
   "outputs": [
    {
     "data": {
      "text/plain": [
       "true"
      ]
     },
     "execution_count": 17,
     "metadata": {},
     "output_type": "execute_result"
    }
   ],
   "source": [
    "table(@NT(x=[1,2,3], y=[4,5,6])) == b"
   ]
  },
  {
   "cell_type": "markdown",
   "metadata": {},
   "source": [
    "`table(cols::Columns; <options>)`"
   ]
  },
  {
   "cell_type": "code",
   "execution_count": 18,
   "metadata": {
    "ExecuteTime": {
     "end_time": "2018-06-10T16:02:56.845000-05:00",
     "start_time": "2018-06-10T21:02:56.787Z"
    }
   },
   "outputs": [
    {
     "data": {
      "text/plain": [
       "true"
      ]
     },
     "execution_count": 18,
     "metadata": {},
     "output_type": "execute_result"
    }
   ],
   "source": [
    "table(Columns([1,2,3], [4,5,6])) == a"
   ]
  },
  {
   "cell_type": "code",
   "execution_count": 19,
   "metadata": {
    "ExecuteTime": {
     "end_time": "2018-06-10T16:03:11.341000-05:00",
     "start_time": "2018-06-10T21:03:11.126Z"
    }
   },
   "outputs": [
    {
     "data": {
      "text/plain": [
       "true"
      ]
     },
     "execution_count": 19,
     "metadata": {},
     "output_type": "execute_result"
    }
   ],
   "source": [
    "table(Columns(x=[1,2,3], y=[4,5,6])) == b"
   ]
  },
  {
   "cell_type": "markdown",
   "metadata": {},
   "source": [
    "`table(t::Union{Table, NDSparse}; <options>)`"
   ]
  },
  {
   "cell_type": "code",
   "execution_count": 20,
   "metadata": {
    "ExecuteTime": {
     "end_time": "2018-06-10T16:04:27.528000-05:00",
     "start_time": "2018-06-10T21:04:27.515Z"
    }
   },
   "outputs": [
    {
     "data": {
      "text/plain": [
       "true"
      ]
     },
     "execution_count": 20,
     "metadata": {},
     "output_type": "execute_result"
    }
   ],
   "source": [
    "b == table(b)"
   ]
  },
  {
   "cell_type": "markdown",
   "metadata": {},
   "source": [
    "`table(iter; <options>)`"
   ]
  },
  {
   "cell_type": "code",
   "execution_count": 21,
   "metadata": {
    "ExecuteTime": {
     "end_time": "2018-06-10T16:08:17.912000-05:00",
     "start_time": "2018-06-10T21:08:07.606Z"
    }
   },
   "outputs": [
    {
     "data": {
      "text/plain": [
       "Distributed Table with 4 rows in 2 chunks:\n",
       "\u001b[1mx  \u001b[22my\n",
       "────\n",
       "1  6\n",
       "2  4\n",
       "3  5\n",
       "4  7"
      ]
     },
     "execution_count": 21,
     "metadata": {},
     "output_type": "execute_result"
    }
   ],
   "source": [
    "# options\n",
    "#\n",
    "# pkey\n",
    "# presorted\n",
    "# copy\n",
    "# chunks - distro table\n",
    "#\n",
    "# chunks creates a distributed table\n",
    "t = table([2,3,1,4], [4,5,6,7],\n",
    "                  names=[:x, :y], pkey=:x, chunks=2)"
   ]
  },
  {
   "cell_type": "code",
   "execution_count": 23,
   "metadata": {
    "ExecuteTime": {
     "end_time": "2018-06-10T16:10:27.142000-05:00",
     "start_time": "2018-06-10T21:10:24.283Z"
    }
   },
   "outputs": [
    {
     "data": {
      "text/plain": [
       "Distributed Table with 4 rows in 2 chunks:\n",
       "x  y  z\n",
       "────────\n",
       "1  5  9\n",
       "2  6  10\n",
       "3  7  11\n",
       "4  8  12"
      ]
     },
     "execution_count": 23,
     "metadata": {},
     "output_type": "execute_result"
    }
   ],
   "source": [
    "# if a dist vector used in constructor, mke a dist Table\n",
    "x = distribute([1,2,3,4], 2);\n",
    "t = table(x, [5,6,7,8], names=[:x,:y])\n",
    "table(columns(t)..., [9,10,11,12],\n",
    "             names=[:x,:y,:z])"
   ]
  },
  {
   "cell_type": "markdown",
   "metadata": {},
   "source": [
    "### NDSparse"
   ]
  },
  {
   "cell_type": "markdown",
   "metadata": {},
   "source": [
    "### Indexing"
   ]
  },
  {
   "cell_type": "markdown",
   "metadata": {},
   "source": [
    "## Selection"
   ]
  },
  {
   "cell_type": "markdown",
   "metadata": {},
   "source": [
    "## Aggregation"
   ]
  },
  {
   "cell_type": "markdown",
   "metadata": {},
   "source": [
    "## Joins"
   ]
  },
  {
   "cell_type": "markdown",
   "metadata": {},
   "source": [
    "## Reshaping\n"
   ]
  },
  {
   "cell_type": "markdown",
   "metadata": {},
   "source": [
    "## Loading and saving"
   ]
  },
  {
   "cell_type": "markdown",
   "metadata": {},
   "source": []
  },
  {
   "cell_type": "markdown",
   "metadata": {},
   "source": []
  },
  {
   "cell_type": "code",
   "execution_count": null,
   "metadata": {},
   "outputs": [],
   "source": []
  }
 ],
 "metadata": {
  "kernelspec": {
   "display_name": "Julia 0.6.2",
   "language": "julia",
   "name": "julia-0.6"
  },
  "language_info": {
   "file_extension": ".jl",
   "mimetype": "application/julia",
   "name": "julia",
   "version": "0.6.2"
  }
 },
 "nbformat": 4,
 "nbformat_minor": 2
}
