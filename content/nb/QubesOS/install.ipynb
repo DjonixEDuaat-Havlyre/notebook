{
 "cells": [
  {
   "cell_type": "markdown",
   "metadata": {},
   "source": [
    "# Qubes OS\n",
    "\n",
    "## Salt Stack\n",
    "\n",
    ">Fundamental to understanding QubesOS\n",
    "\n",
    "<a href=\"https://www.qubes-os.org/doc/salt/\">From QubesOS Dox</a>\n",
    "\n",
    "Salt is a client-server model, where the server (called master) manages its clients (called minions). In typical situations, it is intended that the administrator interacts only with the master and keeps the configurations there. In Qubes, we don’t have a master. Instead we have one minion which resides in dom0 and manages domains from there. This setup is also supported by Salt.\n",
    "\n",
    "Salt is a management engine (similar to Ansible, Puppet, and Chef), that enforces a particular state of a minion system. A state is an end effect declaratively expressed by the administrator. This is the most important concept in the entire engine. All configurations (i.e., the states) are written in YAML.\n",
    "\n",
    "* Pillar\n",
    "\n",
    "A *pillar* is a data back-end declared by the administrator. When states become repetitive, instead of pure YAML they can be written using a template engine (preferably Jinja2); which can use data structures specified in pillars.\n",
    "\n",
    "\n",
    "* Formula\n",
    "\n",
    "A *formula* is a ready to use, packaged solution that combines a state and a pillar (possibly with some file templates and other auxiliary files). There are many formulas made by helpful people all over the Internet.\n",
    "\n",
    "* Grain\n",
    "\n",
    "A *grain* is some data that is also available in templates, but its value is not directly specified by administrator. For example, the distribution (e.g., \"Debian\" or \"Gentoo\") is a value of the grain \"os\". It also contains other information about the kernel, hardware, etc.\n",
    "\n",
    "A module is a Python extension to Salt that is responsible for actually enforcing the state in a particular area. It exposes some imperative functions for the administrator. For example, there is a system module that has a system.halt function that, when issued, will immediately halt a domain. There is another function called state.highstate which will synchronize the state of the system with the administrator’s configuration/desires."
   ]
  },
  {
   "cell_type": "markdown",
   "metadata": {},
   "source": []
  },
  {
   "cell_type": "markdown",
   "metadata": {},
   "source": []
  },
  {
   "cell_type": "code",
   "execution_count": null,
   "metadata": {},
   "outputs": [],
   "source": [
    "m"
   ]
  }
 ],
 "metadata": {
  "kernelspec": {
   "display_name": "Python 3",
   "language": "python",
   "name": "python3"
  },
  "language_info": {
   "codemirror_mode": {
    "name": "ipython",
    "version": 3
   },
   "file_extension": ".py",
   "mimetype": "text/x-python",
   "name": "python",
   "nbconvert_exporter": "python",
   "pygments_lexer": "ipython3",
   "version": "3.6.4"
  }
 },
 "nbformat": 4,
 "nbformat_minor": 2
}
