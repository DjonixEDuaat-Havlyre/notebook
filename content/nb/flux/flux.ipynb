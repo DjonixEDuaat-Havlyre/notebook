{
 "cells": [
  {
   "cell_type": "markdown",
   "metadata": {
    "heading_collapsed": true
   },
   "source": [
    "# Admin"
   ]
  },
  {
   "cell_type": "markdown",
   "metadata": {
    "hidden": true
   },
   "source": []
  },
  {
   "cell_type": "code",
   "execution_count": 1,
   "metadata": {
    "ExecuteTime": {
     "end_time": "2018-06-10T16:44:37.178000-05:00",
     "start_time": "2018-06-10T21:43:16.034Z"
    },
    "hidden": true,
    "scrolled": true
   },
   "outputs": [
    {
     "name": "stderr",
     "output_type": "stream",
     "text": [
      "\u001b[1m\u001b[36mINFO: \u001b[39m\u001b[22m\u001b[36mPackage Flux is already installed\n",
      "\u001b[39m\u001b[1m\u001b[36mINFO: \u001b[39m\u001b[22m\u001b[36mUpdating METADATA...\n",
      "\u001b[39m\u001b[1m\u001b[36mINFO: \u001b[39m\u001b[22m\u001b[36mComputing changes...\n",
      "\u001b[39m"
     ]
    },
    {
     "ename": "LoadError",
     "evalue": "\u001b[91mresolve is unable to satisfy package requirements.\n  The problem was detected when trying to find a feasible version\n  for package NullableArrays.\n  However, this only means that package NullableArrays is involved in an\n  unsatisfiable or difficult dependency relation, and the root of\n  the problem may be elsewhere.\n\u001b[39m",
     "output_type": "error",
     "traceback": [
      "\u001b[91mresolve is unable to satisfy package requirements.\n  The problem was detected when trying to find a feasible version\n  for package NullableArrays.\n  However, this only means that package NullableArrays is involved in an\n  unsatisfiable or difficult dependency relation, and the root of\n  the problem may be elsewhere.\n\u001b[39m",
      "",
      "Stacktrace:",
      " [1] \u001b[1mresolve\u001b[22m\u001b[22m\u001b[1m(\u001b[22m\u001b[22m::Dict{String,Base.Pkg.Types.VersionSet}, ::Dict{String,Dict{VersionNumber,Base.Pkg.Types.Available}}\u001b[1m)\u001b[22m\u001b[22m at \u001b[1m./pkg/resolve.jl:48\u001b[22m\u001b[22m",
      " [2] \u001b[1mresolve\u001b[22m\u001b[22m\u001b[1m(\u001b[22m\u001b[22m::Dict{String,Base.Pkg.Types.VersionSet}, ::Dict{String,Dict{VersionNumber,Base.Pkg.Types.Available}}, ::Dict{String,Tuple{VersionNumber,Bool}}, ::Dict{String,Base.Pkg.Types.Fixed}, ::Dict{String,VersionNumber}, ::Set{String}\u001b[1m)\u001b[22m\u001b[22m at \u001b[1m./pkg/entry.jl:499\u001b[22m\u001b[22m",
      " [3] \u001b[1mupdate\u001b[22m\u001b[22m\u001b[1m(\u001b[22m\u001b[22m::String, ::Set{String}\u001b[1m)\u001b[22m\u001b[22m at \u001b[1m./pkg/entry.jl:461\u001b[22m\u001b[22m",
      " [4] \u001b[1m(::Base.Pkg.Dir.##3#6{Array{Any,1},Base.Pkg.Entry.#update,Tuple{String,Set{String}}})\u001b[22m\u001b[22m\u001b[1m(\u001b[22m\u001b[22m\u001b[1m)\u001b[22m\u001b[22m at \u001b[1m./pkg/dir.jl:33\u001b[22m\u001b[22m",
      " [5] \u001b[1mcd\u001b[22m\u001b[22m\u001b[1m(\u001b[22m\u001b[22m::Base.Pkg.Dir.##3#6{Array{Any,1},Base.Pkg.Entry.#update,Tuple{String,Set{String}}}, ::String\u001b[1m)\u001b[22m\u001b[22m at \u001b[1m./file.jl:70\u001b[22m\u001b[22m",
      " [6] \u001b[1mwithenv\u001b[22m\u001b[22m\u001b[1m(\u001b[22m\u001b[22m::Base.Pkg.Dir.##2#5{Array{Any,1},Base.Pkg.Entry.#update,Tuple{String,Set{String}},String}, ::Pair{String,String}, ::Vararg{Pair{String,String},N} where N\u001b[1m)\u001b[22m\u001b[22m at \u001b[1m./env.jl:157\u001b[22m\u001b[22m",
      " [7] \u001b[1m#cd#1\u001b[22m\u001b[22m\u001b[1m(\u001b[22m\u001b[22m::Array{Any,1}, ::Function, ::Function, ::String, ::Vararg{Any,N} where N\u001b[1m)\u001b[22m\u001b[22m at \u001b[1m./pkg/dir.jl:32\u001b[22m\u001b[22m",
      " [8] \u001b[1mupdate\u001b[22m\u001b[22m\u001b[1m(\u001b[22m\u001b[22m\u001b[1m)\u001b[22m\u001b[22m at \u001b[1m./pkg/pkg.jl:228\u001b[22m\u001b[22m",
      " [9] \u001b[1minclude_string\u001b[22m\u001b[22m\u001b[1m(\u001b[22m\u001b[22m::String, ::String\u001b[1m)\u001b[22m\u001b[22m at \u001b[1m./loading.jl:522\u001b[22m\u001b[22m"
     ]
    }
   ],
   "source": [
    "Pkg.add(\"Flux\")\n",
    "# Optional but recommended\n",
    "Pkg.update() # Keep your packages up to date"
   ]
  },
  {
   "cell_type": "code",
   "execution_count": 2,
   "metadata": {
    "ExecuteTime": {
     "end_time": "2018-06-10T16:47:13.965000-05:00",
     "start_time": "2018-06-10T21:45:37.460Z"
    },
    "hidden": true,
    "scrolled": false
   },
   "outputs": [
    {
     "name": "stderr",
     "output_type": "stream",
     "text": [
      "\u001b[1m\u001b[36mINFO: \u001b[39m\u001b[22m\u001b[36mTesting Flux\n",
      "\u001b[39m  % Total    % Received % Xferd  Average Speed   Time    Time     Time  Current\n",
      "                                 Dload  Upload   Total   Spent    Left  Speed\n",
      "100 3629k  100 3629k    0     0  1537k      0  0:00:02  0:00:02 --:--:-- 1538k\n",
      "  % Total    % Received % Xferd  Average Speed   Time    Time     Time  Current\n",
      "                                 Dload  Upload   Total   Spent    Left  Speed\n",
      "100   382  100   382    0     0   2671      0 --:--:-- --:--:-- --:--:--  2671\n",
      "  % Total    % Received % Xferd  Average Speed   Time    Time     Time  Current\n",
      "                                 Dload  Upload   Total   Spent    Left  Speed\n",
      "100   281  100   281    0     0   2007      0 --:--:-- --:--:-- --:--:--  1992\n"
     ]
    },
    {
     "name": "stdout",
     "output_type": "stream",
     "text": [
      "\u001b[1m\u001b[37mTest Summary: | \u001b[39m\u001b[22m\u001b[1m\u001b[32mPass  \u001b[39m\u001b[22m\u001b[1m\u001b[36mTotal\u001b[39m\u001b[22m\n",
      "Flux          | \u001b[32m  86  \u001b[39m\u001b[36m   86\u001b[39m\n"
     ]
    },
    {
     "name": "stderr",
     "output_type": "stream",
     "text": [
      "\u001b[1m\u001b[36mINFO: \u001b[39m\u001b[22m\u001b[36mFlux tests passed\n",
      "\u001b[39m"
     ]
    }
   ],
   "source": [
    "Pkg.test(\"Flux\") # Check things installed correctly"
   ]
  },
  {
   "cell_type": "markdown",
   "metadata": {},
   "source": [
    "# Building Models"
   ]
  },
  {
   "cell_type": "markdown",
   "metadata": {
    "heading_collapsed": true
   },
   "source": [
    "## Basics"
   ]
  },
  {
   "cell_type": "markdown",
   "metadata": {
    "heading_collapsed": true,
    "hidden": true
   },
   "source": [
    "### Gradients"
   ]
  },
  {
   "cell_type": "code",
   "execution_count": 3,
   "metadata": {
    "ExecuteTime": {
     "end_time": "2018-06-10T17:06:21.929000-05:00",
     "start_time": "2018-06-10T22:06:17.423Z"
    },
    "hidden": true
   },
   "outputs": [
    {
     "data": {
      "text/plain": [
       "4.4480426969766285"
      ]
     },
     "execution_count": 3,
     "metadata": {},
     "output_type": "execute_result"
    }
   ],
   "source": [
    "W = rand(2, 5)\n",
    "b = rand(2)\n",
    "\n",
    "predict(x) = W*x .+ b\n",
    "loss(x, y) = sum((predict(x) .- y).^2)\n",
    "\n",
    "x, y = rand(5), rand(2) # Dummy data\n",
    "loss(x, y) # ~ 3"
   ]
  },
  {
   "cell_type": "code",
   "execution_count": 4,
   "metadata": {
    "ExecuteTime": {
     "end_time": "2018-06-10T17:07:20.782000-05:00",
     "start_time": "2018-06-10T22:07:10.597Z"
    },
    "hidden": true
   },
   "outputs": [],
   "source": [
    "using Flux.Tracker\n",
    "\n",
    "W = param(W)\n",
    "b = param(b)\n",
    "\n",
    "l = loss(x, y)\n",
    "\n",
    "back!(l)"
   ]
  },
  {
   "cell_type": "code",
   "execution_count": 5,
   "metadata": {
    "ExecuteTime": {
     "end_time": "2018-06-10T17:07:46.020000-05:00",
     "start_time": "2018-06-10T22:07:44.769Z"
    },
    "hidden": true
   },
   "outputs": [
    {
     "data": {
      "text/plain": [
       "Tracked 0-dimensional Array{Float64,0}:\n",
       "2.42937"
      ]
     },
     "execution_count": 5,
     "metadata": {},
     "output_type": "execute_result"
    }
   ],
   "source": [
    "W.grad\n",
    "\n",
    "# Update the parameter\n",
    "W.data .-= 0.1(W.grad)\n",
    "\n",
    "loss(x, y) # ~ 2.5"
   ]
  },
  {
   "cell_type": "markdown",
   "metadata": {
    "heading_collapsed": true,
    "hidden": true
   },
   "source": [
    "### Layers"
   ]
  },
  {
   "cell_type": "code",
   "execution_count": 11,
   "metadata": {
    "ExecuteTime": {
     "end_time": "2018-06-10T17:12:56.156000-05:00",
     "start_time": "2018-06-10T22:12:54.623Z"
    },
    "hidden": true
   },
   "outputs": [
    {
     "data": {
      "text/plain": [
       "Tracked 2-element Array{Float64,1}:\n",
       " 1.07609\n",
       " 2.69392"
      ]
     },
     "execution_count": 11,
     "metadata": {},
     "output_type": "execute_result"
    }
   ],
   "source": [
    "using Flux\n",
    "\n",
    "W1 = param(rand(3, 5))\n",
    "b1 = param(rand(3))\n",
    "layer1(x) = W1 * x .+ b1\n",
    "\n",
    "W2 = param(rand(2, 3))\n",
    "b2 = param(rand(2))\n",
    "layer2(x) = W2 * x .+ b2\n",
    "\n",
    "model(x) = layer2(σ.(layer1(x)))\n",
    "\n",
    "model(rand(5)) # => 2-element vector"
   ]
  },
  {
   "cell_type": "code",
   "execution_count": 13,
   "metadata": {
    "ExecuteTime": {
     "end_time": "2018-06-10T17:13:50.699000-05:00",
     "start_time": "2018-06-10T22:13:50.498Z"
    },
    "hidden": true
   },
   "outputs": [
    {
     "data": {
      "text/plain": [
       "Tracked 2-element Array{Float64,1}:\n",
       "  1.82401 \n",
       " -0.880741"
      ]
     },
     "execution_count": 13,
     "metadata": {},
     "output_type": "execute_result"
    }
   ],
   "source": [
    "function linear(in, out)\n",
    "  W = param(randn(out, in))\n",
    "  b = param(randn(out))\n",
    "  x -> W * x .+ b\n",
    "end\n",
    "\n",
    "linear1 = linear(5, 3) # we can access linear1.W etc\n",
    "linear2 = linear(3, 2)\n",
    "\n",
    "model(x) = linear2(σ.(linear1(x)))\n",
    "\n",
    "model(x) # => 2-element vector"
   ]
  },
  {
   "cell_type": "code",
   "execution_count": 14,
   "metadata": {
    "ExecuteTime": {
     "end_time": "2018-06-10T17:14:47.569000-05:00",
     "start_time": "2018-06-10T22:14:47.492Z"
    },
    "hidden": true
   },
   "outputs": [
    {
     "data": {
      "text/plain": [
       "Tracked 5-element Array{Float64,1}:\n",
       "  3.73754 \n",
       "  3.90584 \n",
       " -0.819231\n",
       "  1.47741 \n",
       " -0.144513"
      ]
     },
     "execution_count": 14,
     "metadata": {},
     "output_type": "execute_result"
    }
   ],
   "source": [
    "# another way\n",
    "struct Affine\n",
    "  W\n",
    "  b\n",
    "end\n",
    "\n",
    "Affine(in::Integer, out::Integer) =\n",
    "  Affine(param(randn(out, in)), param(randn(out)))\n",
    "\n",
    "# Overload call, so the object can be used as a function\n",
    "(m::Affine)(x) = m.W * x .+ m.b\n",
    "\n",
    "a = Affine(10, 5)\n",
    "\n",
    "a(rand(10)) # => 5-element vector"
   ]
  },
  {
   "cell_type": "markdown",
   "metadata": {
    "heading_collapsed": true,
    "hidden": true
   },
   "source": [
    "### Stacking it up"
   ]
  },
  {
   "cell_type": "code",
   "execution_count": 17,
   "metadata": {
    "ExecuteTime": {
     "end_time": "2018-06-10T17:17:00.623000-05:00",
     "start_time": "2018-06-10T22:17:00.492Z"
    },
    "hidden": true
   },
   "outputs": [
    {
     "data": {
      "text/plain": [
       "model (generic function with 1 method)"
      ]
     },
     "execution_count": 17,
     "metadata": {},
     "output_type": "execute_result"
    }
   ],
   "source": [
    "using Flux\n",
    "layer_1 = Dense(10, 5, σ)\n",
    "# ...\n",
    "model(x) = layer3(layer2(layer_1(x)))"
   ]
  },
  {
   "cell_type": "code",
   "execution_count": 18,
   "metadata": {
    "ExecuteTime": {
     "end_time": "2018-06-10T17:17:22.655000-05:00",
     "start_time": "2018-06-10T22:17:22.281Z"
    },
    "hidden": true
   },
   "outputs": [
    {
     "data": {
      "text/plain": [
       "Tracked 2-element Array{Float64,1}:\n",
       " 0.198587\n",
       " 0.801413"
      ]
     },
     "execution_count": 18,
     "metadata": {},
     "output_type": "execute_result"
    }
   ],
   "source": [
    "using Flux\n",
    "\n",
    "layers = [Dense(10, 5, σ), Dense(5, 2), softmax]\n",
    "\n",
    "model(x) = foldl((x, m) -> m(x), x, layers)\n",
    "\n",
    "model(rand(10)) # => 2-element vector"
   ]
  },
  {
   "cell_type": "code",
   "execution_count": 19,
   "metadata": {
    "ExecuteTime": {
     "end_time": "2018-06-10T17:17:46.352000-05:00",
     "start_time": "2018-06-10T22:17:46.279Z"
    },
    "hidden": true
   },
   "outputs": [
    {
     "data": {
      "text/plain": [
       "Tracked 2-element Array{Float64,1}:\n",
       " 0.673231\n",
       " 0.326769"
      ]
     },
     "execution_count": 19,
     "metadata": {},
     "output_type": "execute_result"
    }
   ],
   "source": [
    "model2 = Chain(\n",
    "  Dense(10, 5, σ),\n",
    "  Dense(5, 2),\n",
    "  softmax)\n",
    "\n",
    "model2(rand(10)) # => 2-element vector"
   ]
  },
  {
   "cell_type": "code",
   "execution_count": 20,
   "metadata": {
    "ExecuteTime": {
     "end_time": "2018-06-10T17:18:38.341000-05:00",
     "start_time": "2018-06-10T22:18:38.318Z"
    },
    "hidden": true
   },
   "outputs": [
    {
     "data": {
      "text/plain": [
       "Tracked 2-element Array{Float64,1}:\n",
       " -0.245294\n",
       "  0.603482"
      ]
     },
     "execution_count": 20,
     "metadata": {},
     "output_type": "execute_result"
    }
   ],
   "source": [
    "m = Dense(5, 2) ∘ Dense(10, 5, σ)\n",
    "\n",
    "m(rand(10))"
   ]
  },
  {
   "cell_type": "code",
   "execution_count": 21,
   "metadata": {
    "ExecuteTime": {
     "end_time": "2018-06-10T17:19:18.898000-05:00",
     "start_time": "2018-06-10T22:19:18.595Z"
    },
    "hidden": true
   },
   "outputs": [
    {
     "data": {
      "text/plain": [
       "26"
      ]
     },
     "execution_count": 21,
     "metadata": {},
     "output_type": "execute_result"
    }
   ],
   "source": [
    "m = Chain(x -> x^2, x -> x+1)\n",
    "\n",
    "m(5) # => 26"
   ]
  },
  {
   "cell_type": "markdown",
   "metadata": {
    "heading_collapsed": true
   },
   "source": [
    "## Recurrence"
   ]
  },
  {
   "cell_type": "markdown",
   "metadata": {
    "heading_collapsed": true,
    "hidden": true
   },
   "source": [
    "### Recurrent Cells"
   ]
  },
  {
   "cell_type": "code",
   "execution_count": 22,
   "metadata": {
    "ExecuteTime": {
     "end_time": "2018-06-10T17:24:47.559000-05:00",
     "start_time": "2018-06-10T22:24:47.153Z"
    },
    "hidden": true
   },
   "outputs": [
    {
     "data": {
      "text/plain": [
       "([0.786098, 0.994451, -0.970166, 0.972303, -0.999449], [0.786098, 0.994451, -0.970166, 0.972303, -0.999449])"
      ]
     },
     "execution_count": 22,
     "metadata": {},
     "output_type": "execute_result"
    }
   ],
   "source": [
    "Wxh = randn(5, 10)\n",
    "Whh = randn(5, 5)\n",
    "b   = randn(5)\n",
    "\n",
    "function rnn(h, x)\n",
    "  h = tanh.(Wxh * x .+ Whh * h .+ b)\n",
    "  return h, h\n",
    "end\n",
    "\n",
    "x = rand(10) # dummy data\n",
    "h = rand(5)  # initial hidden state\n",
    "\n",
    "h, y = rnn(h, x)"
   ]
  },
  {
   "cell_type": "code",
   "execution_count": 23,
   "metadata": {
    "ExecuteTime": {
     "end_time": "2018-06-10T17:25:36.243000-05:00",
     "start_time": "2018-06-10T22:25:35.743Z"
    },
    "hidden": true
   },
   "outputs": [
    {
     "data": {
      "text/plain": [
       "(param([-0.740629, 0.832188, 0.049595, 0.391344, 0.108413]), param([-0.740629, 0.832188, 0.049595, 0.391344, 0.108413]))"
      ]
     },
     "execution_count": 23,
     "metadata": {},
     "output_type": "execute_result"
    }
   ],
   "source": [
    "# more concise\n",
    "using Flux\n",
    "\n",
    "rnn2 = Flux.RNNCell(10, 5)\n",
    "\n",
    "x = rand(10) # dummy data\n",
    "h = rand(5)  # initial hidden state\n",
    "\n",
    "h, y = rnn2(h, x)"
   ]
  },
  {
   "cell_type": "markdown",
   "metadata": {
    "heading_collapsed": true,
    "hidden": true
   },
   "source": [
    "### Stateful Models"
   ]
  },
  {
   "cell_type": "code",
   "execution_count": 24,
   "metadata": {
    "ExecuteTime": {
     "end_time": "2018-06-10T17:26:38.323000-05:00",
     "start_time": "2018-06-10T22:26:38.072Z"
    },
    "hidden": true
   },
   "outputs": [
    {
     "data": {
      "text/plain": [
       "5-element Array{Float64,1}:\n",
       "  0.944022 \n",
       " -0.0331725\n",
       "  0.269579 \n",
       "  0.973758 \n",
       " -0.999189 "
      ]
     },
     "execution_count": 24,
     "metadata": {},
     "output_type": "execute_result"
    }
   ],
   "source": [
    "x = rand(10)\n",
    "h = rand(5)\n",
    "\n",
    "m = Flux.Recur(rnn, h)\n",
    "\n",
    "y = m(x)"
   ]
  },
  {
   "cell_type": "markdown",
   "metadata": {
    "heading_collapsed": true,
    "hidden": true
   },
   "source": [
    "### Sequences"
   ]
  },
  {
   "cell_type": "code",
   "execution_count": 25,
   "metadata": {
    "ExecuteTime": {
     "end_time": "2018-06-10T17:27:46.649000-05:00",
     "start_time": "2018-06-10T22:27:45.851Z"
    },
    "hidden": true
   },
   "outputs": [
    {
     "data": {
      "text/plain": [
       "10-element Array{Array{Float64,1},1}:\n",
       " [0.648083, 0.595107, 0.839945, 0.739376, 0.990343, 0.339041, 0.962497, 0.844712, 0.337752, 0.388273]   \n",
       " [0.53186, 0.817248, 0.832853, 0.887418, 0.519195, 0.274859, 0.578825, 0.533091, 0.428315, 0.480524]    \n",
       " [0.285008, 0.785897, 0.909889, 0.546765, 0.974994, 0.730691, 0.358246, 0.543274, 0.893889, 0.122494]   \n",
       " [0.637238, 0.983072, 0.576636, 0.0425121, 0.226362, 0.623526, 0.591562, 0.0359528, 0.480548, 0.190922] \n",
       " [0.263383, 0.452225, 0.699728, 0.0639004, 0.915173, 0.568517, 0.757429, 0.565975, 0.549652, 0.0336582] \n",
       " [0.802022, 0.0263171, 0.676374, 0.788473, 0.127783, 0.0791591, 0.0976811, 0.308933, 0.064207, 0.656015]\n",
       " [0.568454, 0.0867206, 0.705805, 0.0724178, 0.496361, 0.524542, 0.664999, 0.528334, 0.10445, 0.169119]  \n",
       " [0.509781, 0.409487, 0.450865, 0.177006, 0.356838, 0.0415929, 0.763214, 0.43009, 0.123381, 0.958812]   \n",
       " [0.681299, 0.456266, 0.508522, 0.0334579, 0.194583, 0.756465, 0.851532, 0.0937034, 0.441508, 0.394023] \n",
       " [0.540796, 0.928402, 0.370283, 0.220076, 0.360933, 0.937855, 0.567837, 0.250103, 0.236221, 0.0936162]  "
      ]
     },
     "execution_count": 25,
     "metadata": {},
     "output_type": "execute_result"
    }
   ],
   "source": [
    "seq = [rand(10) for i = 1:10]"
   ]
  },
  {
   "cell_type": "code",
   "execution_count": 26,
   "metadata": {
    "ExecuteTime": {
     "end_time": "2018-06-10T17:28:07.187000-05:00",
     "start_time": "2018-06-10T22:28:06.995Z"
    },
    "hidden": true
   },
   "outputs": [
    {
     "data": {
      "text/plain": [
       "10-element Array{Array{Float64,1},1}:\n",
       " [0.697384, 0.004087, -0.914507, 0.755987, -0.999839] \n",
       " [0.561729, 0.39182, -0.900744, 0.641344, -0.99969]   \n",
       " [0.570325, 0.771587, -0.744579, 0.2353, -0.997611]   \n",
       " [-0.141873, 0.791483, 0.382622, 0.535097, -0.97649]  \n",
       " [-0.736799, 0.614253, 0.820003, 0.792835, -0.895037] \n",
       " [-0.778259, -0.254554, 0.98142, 0.994847, -0.803188] \n",
       " [-0.798405, -0.716291, 0.997126, 0.960138, -0.977139]\n",
       " [-0.864664, -0.194456, 0.999685, 0.996779, -0.976205]\n",
       " [-0.634608, -0.587306, 0.999912, 0.996222, -0.974303]\n",
       " [0.783383, -0.657033, 0.999993, 0.99896, -0.995225]  "
      ]
     },
     "execution_count": 26,
     "metadata": {},
     "output_type": "execute_result"
    }
   ],
   "source": [
    "m.(seq) # returns a list of 5-element vectors"
   ]
  },
  {
   "cell_type": "code",
   "execution_count": 27,
   "metadata": {
    "ExecuteTime": {
     "end_time": "2018-06-10T17:28:25.951000-05:00",
     "start_time": "2018-06-10T22:28:24.507Z"
    },
    "hidden": true
   },
   "outputs": [
    {
     "data": {
      "text/plain": [
       "10-element Array{TrackedArray{…,Array{Float64,1}},1}:\n",
       " param([0.278205, 0.147351, 0.0432366, -0.233245, 0.0367112])\n",
       " param([0.309439, 0.183179, 0.162422, -0.177446, 0.115459])  \n",
       " param([0.38543, 0.129649, 0.394392, -0.180781, 0.160209])   \n",
       " param([0.278085, 0.223547, 0.363532, -0.2069, 0.212915])    \n",
       " param([0.338599, 0.268606, 0.487053, -0.263658, 0.169581])  \n",
       " param([0.37252, 0.281502, 0.351284, -0.055149, 0.188647])   \n",
       " param([0.347256, 0.256342, 0.424047, -0.131747, 0.254324])  \n",
       " param([0.306231, 0.263328, 0.294741, -0.0628453, 0.260427]) \n",
       " param([0.278381, 0.250655, 0.387657, -0.135299, 0.324638])  \n",
       " param([0.211492, 0.326294, 0.442487, -0.160556, 0.229433])  "
      ]
     },
     "execution_count": 27,
     "metadata": {},
     "output_type": "execute_result"
    }
   ],
   "source": [
    "m = Chain(LSTM(10, 15), Dense(15, 5))\n",
    "m.(seq)"
   ]
  },
  {
   "cell_type": "markdown",
   "metadata": {
    "heading_collapsed": true,
    "hidden": true
   },
   "source": [
    "### Truncating Gradients"
   ]
  },
  {
   "cell_type": "code",
   "execution_count": 29,
   "metadata": {
    "ExecuteTime": {
     "end_time": "2018-06-10T17:29:59.579000-05:00",
     "start_time": "2018-06-10T22:29:59.573Z"
    },
    "hidden": true
   },
   "outputs": [
    {
     "ename": "LoadError",
     "evalue": "\u001b[91mUndefVarError: truncate! not defined\u001b[39m",
     "output_type": "error",
     "traceback": [
      "\u001b[91mUndefVarError: truncate! not defined\u001b[39m",
      "",
      "Stacktrace:",
      " [1] \u001b[1minclude_string\u001b[22m\u001b[22m\u001b[1m(\u001b[22m\u001b[22m::String, ::String\u001b[1m)\u001b[22m\u001b[22m at \u001b[1m./loading.jl:522\u001b[22m\u001b[22m"
     ]
    }
   ],
   "source": [
    "using Flux\n",
    "truncate!(m)"
   ]
  },
  {
   "cell_type": "markdown",
   "metadata": {
    "heading_collapsed": true
   },
   "source": [
    "## Regularisation"
   ]
  },
  {
   "cell_type": "code",
   "execution_count": 30,
   "metadata": {
    "ExecuteTime": {
     "end_time": "2018-06-10T17:31:48.623000-05:00",
     "start_time": "2018-06-10T22:31:48.476Z"
    },
    "hidden": true
   },
   "outputs": [
    {
     "data": {
      "text/plain": [
       "loss (generic function with 1 method)"
      ]
     },
     "execution_count": 30,
     "metadata": {},
     "output_type": "execute_result"
    }
   ],
   "source": [
    "m = Dense(10, 5)\n",
    "loss(x, y) = crossentropy(softmax(m(x)), y)"
   ]
  },
  {
   "cell_type": "code",
   "execution_count": 31,
   "metadata": {
    "ExecuteTime": {
     "end_time": "2018-06-10T17:32:08.724000-05:00",
     "start_time": "2018-06-10T22:32:08.720Z"
    },
    "hidden": true
   },
   "outputs": [
    {
     "data": {
      "text/plain": [
       "loss (generic function with 1 method)"
      ]
     },
     "execution_count": 31,
     "metadata": {},
     "output_type": "execute_result"
    }
   ],
   "source": [
    "penalty() = vecnorm(m.W) + vecnorm(m.b)\n",
    "loss(x, y) = crossentropy(softmax(m(x)), y) + penalty()"
   ]
  },
  {
   "cell_type": "code",
   "execution_count": 32,
   "metadata": {
    "ExecuteTime": {
     "end_time": "2018-06-10T17:32:48.710000-05:00",
     "start_time": "2018-06-10T22:32:48.094Z"
    },
    "hidden": true
   },
   "outputs": [
    {
     "ename": "LoadError",
     "evalue": "\u001b[91mMethodError: no method matching norm(::TrackedArray{…,Array{Float64,0}})\u001b[0m\nClosest candidates are:\n  norm(\u001b[91m::RowVector\u001b[39m) at linalg/generic.jl:595\n  norm(\u001b[91m::RowVector\u001b[39m, \u001b[91m::Real\u001b[39m) at linalg/generic.jl:607\n  norm(\u001b[91m::Union{Base.ReshapedArray{T<:Union{Complex{Float32}, Complex{Float64}, Float32, Float64},1,A,MI} where MI<:Tuple{Vararg{Base.MultiplicativeInverses.SignedMultiplicativeInverse{Int64},N} where N} where A<:Union{DenseArray, SubArray{T,N,P,I,true} where I<:Tuple{Union{Base.Slice, UnitRange},Vararg{Any,N} where N} where P where N where T}, DenseArray{T<:Union{Complex{Float32}, Complex{Float64}, Float32, Float64},1}, SubArray{T<:Union{Complex{Float32}, Complex{Float64}, Float32, Float64},1,A,I,L} where L} where I<:Tuple{Vararg{Union{Base.AbstractCartesianIndex, Int64, Range{Int64}},N} where N} where A<:Union{Base.ReshapedArray{T,N,A,MI} where MI<:Tuple{Vararg{Base.MultiplicativeInverses.SignedMultiplicativeInverse{Int64},N} where N} where A<:Union{DenseArray, SubArray{T,N,P,I,true} where I<:Tuple{Union{Base.Slice, UnitRange},Vararg{Any,N} where N} where P where N where T} where N where T, DenseArray}\u001b[39m, \u001b[91m::Union{Range{TI<:Integer}, UnitRange{TI<:Integer}}\u001b[39m) where {T<:Union{Complex{Float32}, Complex{Float64}, Float32, Float64}, TI<:Integer} at linalg/dense.jl:87\n  ...\u001b[39m",
     "output_type": "error",
     "traceback": [
      "\u001b[91mMethodError: no method matching norm(::TrackedArray{…,Array{Float64,0}})\u001b[0m\nClosest candidates are:\n  norm(\u001b[91m::RowVector\u001b[39m) at linalg/generic.jl:595\n  norm(\u001b[91m::RowVector\u001b[39m, \u001b[91m::Real\u001b[39m) at linalg/generic.jl:607\n  norm(\u001b[91m::Union{Base.ReshapedArray{T<:Union{Complex{Float32}, Complex{Float64}, Float32, Float64},1,A,MI} where MI<:Tuple{Vararg{Base.MultiplicativeInverses.SignedMultiplicativeInverse{Int64},N} where N} where A<:Union{DenseArray, SubArray{T,N,P,I,true} where I<:Tuple{Union{Base.Slice, UnitRange},Vararg{Any,N} where N} where P where N where T}, DenseArray{T<:Union{Complex{Float32}, Complex{Float64}, Float32, Float64},1}, SubArray{T<:Union{Complex{Float32}, Complex{Float64}, Float32, Float64},1,A,I,L} where L} where I<:Tuple{Vararg{Union{Base.AbstractCartesianIndex, Int64, Range{Int64}},N} where N} where A<:Union{Base.ReshapedArray{T,N,A,MI} where MI<:Tuple{Vararg{Base.MultiplicativeInverses.SignedMultiplicativeInverse{Int64},N} where N} where A<:Union{DenseArray, SubArray{T,N,P,I,true} where I<:Tuple{Union{Base.Slice, UnitRange},Vararg{Any,N} where N} where P where N where T} where N where T, DenseArray}\u001b[39m, \u001b[91m::Union{Range{TI<:Integer}, UnitRange{TI<:Integer}}\u001b[39m) where {T<:Union{Complex{Float32}, Complex{Float64}, Float32, Float64}, TI<:Integer} at linalg/dense.jl:87\n  ...\u001b[39m",
      "",
      "Stacktrace:",
      " [1] \u001b[1mgeneric_vecnormInf\u001b[22m\u001b[22m\u001b[1m(\u001b[22m\u001b[22m::TrackedArray{…,Array{Float64,2}}\u001b[1m)\u001b[22m\u001b[22m at \u001b[1m./linalg/generic.jl:328\u001b[22m\u001b[22m",
      " [2] \u001b[1mgeneric_vecnorm2\u001b[22m\u001b[22m\u001b[1m(\u001b[22m\u001b[22m::TrackedArray{…,Array{Float64,2}}\u001b[1m)\u001b[22m\u001b[22m at \u001b[1m./linalg/generic.jl:356\u001b[22m\u001b[22m",
      " [3] \u001b[1mvecnorm\u001b[22m\u001b[22m\u001b[1m(\u001b[22m\u001b[22m::TrackedArray{…,Array{Float64,2}}, ::Int64\u001b[1m)\u001b[22m\u001b[22m at \u001b[1m./linalg/generic.jl:445\u001b[22m\u001b[22m",
      " [4] \u001b[1mvecnorm\u001b[22m\u001b[22m\u001b[1m(\u001b[22m\u001b[22m::TrackedArray{…,Array{Float64,2}}\u001b[1m)\u001b[22m\u001b[22m at \u001b[1m./linalg/generic.jl:443\u001b[22m\u001b[22m",
      " [5] \u001b[1m_mapreduce\u001b[22m\u001b[22m\u001b[1m(\u001b[22m\u001b[22m::Base.LinAlg.#vecnorm, ::Base.#+, ::IndexLinear, ::Array{Any,1}\u001b[1m)\u001b[22m\u001b[22m at \u001b[1m./reduce.jl:273\u001b[22m\u001b[22m",
      " [6] \u001b[1msum\u001b[22m\u001b[22m\u001b[1m(\u001b[22m\u001b[22m::Function, ::Array{Any,1}\u001b[1m)\u001b[22m\u001b[22m at \u001b[1m./reduce.jl:347\u001b[22m\u001b[22m",
      " [7] \u001b[1minclude_string\u001b[22m\u001b[22m\u001b[1m(\u001b[22m\u001b[22m::String, ::String\u001b[1m)\u001b[22m\u001b[22m at \u001b[1m./loading.jl:522\u001b[22m\u001b[22m"
     ]
    }
   ],
   "source": [
    "sum(vecnorm, params(m))"
   ]
  },
  {
   "cell_type": "code",
   "execution_count": 33,
   "metadata": {
    "ExecuteTime": {
     "end_time": "2018-06-10T17:33:16.749000-05:00",
     "start_time": "2018-06-10T22:33:16.621Z"
    },
    "hidden": true
   },
   "outputs": [
    {
     "ename": "LoadError",
     "evalue": "\u001b[91mUndefVarError: crossentropy not defined\u001b[39m",
     "output_type": "error",
     "traceback": [
      "\u001b[91mUndefVarError: crossentropy not defined\u001b[39m",
      "",
      "Stacktrace:",
      " [1] \u001b[1mloss\u001b[22m\u001b[22m\u001b[1m(\u001b[22m\u001b[22m::Array{Float64,1}, ::Array{Float64,1}\u001b[1m)\u001b[22m\u001b[22m at \u001b[1m./In[33]:6\u001b[22m\u001b[22m",
      " [2] \u001b[1minclude_string\u001b[22m\u001b[22m\u001b[1m(\u001b[22m\u001b[22m::String, ::String\u001b[1m)\u001b[22m\u001b[22m at \u001b[1m./loading.jl:522\u001b[22m\u001b[22m"
     ]
    }
   ],
   "source": [
    "m = Chain(\n",
    "  Dense(28^2, 128, relu),\n",
    "  Dense(128, 32, relu),\n",
    "  Dense(32, 10), softmax)\n",
    "\n",
    "loss(x, y) = crossentropy(m(x), y) + sum(vecnorm, params(m))\n",
    "\n",
    "loss(rand(28^2), rand(10))"
   ]
  },
  {
   "cell_type": "code",
   "execution_count": null,
   "metadata": {
    "hidden": true
   },
   "outputs": [],
   "source": []
  }
 ],
 "metadata": {
  "kernelspec": {
   "display_name": "Julia 0.6.2",
   "language": "julia",
   "name": "julia-0.6"
  },
  "language_info": {
   "file_extension": ".jl",
   "mimetype": "application/julia",
   "name": "julia",
   "version": "0.6.2"
  }
 },
 "nbformat": 4,
 "nbformat_minor": 2
}
