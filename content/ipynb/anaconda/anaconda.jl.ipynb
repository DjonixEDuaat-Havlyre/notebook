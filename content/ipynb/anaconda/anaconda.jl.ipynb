{
 "cells": [ g
  {
   "cell_type": "markdown",
   "metadata": {},
   "source": [
    "# Anaconda\n",
    "\n",
    "## cmds\n",
    "---------------------\n",
    "`source activate <env_name>`\n",
    "\n",
    "`source deactivate`\n",
    "\n",
    "`conda info --envs`\n",
    "\n",
    "`conda install <package_name>`\n",
    "\n",
    "`conda update conda`\n",
    "\n",
    "`conda create -n <env_name> <package_name>[=<version>]`\n",
    "\n",
    "## apps\n",
    "---------------------\n",
    "jupyter\n",
    "\n",
    "`jupyter notebook`"
   ]
  },
  {
   "cell_type": "code",
   "execution_count": null,
   "metadata": {},
   "outputs": [],
   "source": []
  }
 ],
 "metadata": {
  "kernelspec": {
   "display_name": "Python 3",
   "language": "python",
   "name": "python3"
  },
  "language_info": {
   "codemirror_mode": {
    "name": "ipython",
    "version": 3
   },
   "file_extension": ".py",
   "mimetype": "text/x-python",
   "name": "python",
   "nbconvert_exporter": "python",
   "pygments_lexer": "ipython3",
   "version": "3.6.4"
  }
 },
 "nbformat": 4,
 "nbformat_minor": 2
}
